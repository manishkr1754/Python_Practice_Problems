{
 "cells": [
  {
   "cell_type": "markdown",
   "id": "ca5a0e9b",
   "metadata": {},
   "source": [
    "# Python Practice Problem- Case based on List and Tuple"
   ]
  },
  {
   "cell_type": "markdown",
   "id": "9776d766",
   "metadata": {},
   "source": [
    "## Problem Statement\n",
    "\n",
    "Analytics Vidhya conducted an assessment test to hire a Data Scientist. The candidates were evaluated on 5 different subjects A, B, C, D, and E. The marks of 5 different subjects out of 100 are given below. Help Analytics Vidhya to find out the answers of the following questions."
   ]
  },
  {
   "cell_type": "markdown",
   "id": "818e1864",
   "metadata": {},
   "source": [
    "● Who scored the highest marks in the subject B?\n",
    "\n",
    "● What is the average marks scored in the subject C?\n",
    "\n",
    "● Who scored the highest percentage of marks?\n",
    "\n",
    "● If considered only top-4 subjects of a candidate, then who scored the highest\n",
    "percentage of marks?"
   ]
  },
  {
   "cell_type": "code",
   "execution_count": 1,
   "id": "c569d952",
   "metadata": {},
   "outputs": [],
   "source": [
    "# student marks\n",
    "student_marks = [['Name', ['A','B','C','D','E']],\n",
    "                 ['Ankit', [41,34,45,55,63]],\n",
    "                 ['Aravind', [42,23,34,44,53]],\n",
    "                 ['Lakshay', [32,23,13,54,67]],\n",
    "                 ['Gyan', [23,82,23,63,34]],\n",
    "                 ['Pranav', [21,23,25,56,56]]\n",
    "                ]"
   ]
  },
  {
   "cell_type": "code",
   "execution_count": 2,
   "id": "ffdf0c3f",
   "metadata": {},
   "outputs": [
    {
     "data": {
      "text/plain": [
       "[['Name', ['A', 'B', 'C', 'D', 'E']],\n",
       " ['Ankit', [41, 34, 45, 55, 63]],\n",
       " ['Aravind', [42, 23, 34, 44, 53]],\n",
       " ['Lakshay', [32, 23, 13, 54, 67]],\n",
       " ['Gyan', [23, 82, 23, 63, 34]],\n",
       " ['Pranav', [21, 23, 25, 56, 56]]]"
      ]
     },
     "execution_count": 2,
     "metadata": {},
     "output_type": "execute_result"
    }
   ],
   "source": [
    "student_marks"
   ]
  },
  {
   "cell_type": "code",
   "execution_count": 3,
   "id": "67efa5b9",
   "metadata": {},
   "outputs": [
    {
     "name": "stdout",
     "output_type": "stream",
     "text": [
      "--------------------------------------------------\n",
      "Information provided about student's marks in different subjects\n",
      "--------------------------------------------------\n",
      "Marks for Ankit are as follows:\n",
      "Marks in all Subjects : [41, 34, 45, 55, 63]\n",
      "\n",
      "Marks for Aravind are as follows:\n",
      "Marks in all Subjects : [42, 23, 34, 44, 53]\n",
      "\n",
      "Marks for Lakshay are as follows:\n",
      "Marks in all Subjects : [32, 23, 13, 54, 67]\n",
      "\n",
      "Marks for Gyan are as follows:\n",
      "Marks in all Subjects : [23, 82, 23, 63, 34]\n",
      "\n",
      "Marks for Pranav are as follows:\n",
      "Marks in all Subjects : [21, 23, 25, 56, 56]\n",
      "\n"
     ]
    }
   ],
   "source": [
    "print('-'*50)\n",
    "print(\"Information provided about student's marks in different subjects\")\n",
    "print('-'*50)\n",
    "\n",
    "for student in student_marks[1:]:\n",
    "    student_name = student[0]\n",
    "    print(f\"Marks for {student_name} are as follows:\")\n",
    "    marks_all_subjects = student[1]\n",
    "    print(f\"Marks in all Subjects : {marks_all_subjects}\\n\")"
   ]
  },
  {
   "cell_type": "code",
   "execution_count": 4,
   "id": "fb74542d",
   "metadata": {},
   "outputs": [
    {
     "name": "stdout",
     "output_type": "stream",
     "text": [
      "--------------------------------------------------\n",
      "All Students marks in subject B\n",
      "--------------------------------------------------\n",
      "Ankit's marks in subject B : 34\n",
      "\n",
      "Aravind's marks in subject B : 23\n",
      "\n",
      "Lakshay's marks in subject B : 23\n",
      "\n",
      "Gyan's marks in subject B : 82\n",
      "\n",
      "Pranav's marks in subject B : 23\n",
      "\n",
      "--------------------------------------------------\n",
      "Who scored the highest marks in the subject B?\n",
      "--------------------------------------------------\n",
      "Student with highest marks in subject B is Gyan with 82 marks.\n"
     ]
    }
   ],
   "source": [
    "print('-'*50)\n",
    "print(\"All Students marks in subject B\")\n",
    "print('-'*50)\n",
    "\n",
    "highest_marks_sub_B = 0\n",
    "topper_sub_B =''\n",
    "\n",
    "for student in student_marks[1:]:\n",
    "    student_name = student[0]\n",
    "    marks_sub_B = student[1][1]\n",
    "    print(f\"{student_name}'s marks in subject B : {marks_sub_B}\\n\")\n",
    "    if marks_sub_B>highest_marks_sub_B:\n",
    "        highest_marks_sub_B=marks_sub_B\n",
    "        topper_sub_B = student_name\n",
    "        \n",
    "print('-'*50)\n",
    "print(\"Who scored the highest marks in the subject B?\")\n",
    "print('-'*50)\n",
    "print(f\"Student with highest marks in subject B is {topper_sub_B} with {highest_marks_sub_B} marks.\")\n"
   ]
  },
  {
   "cell_type": "code",
   "execution_count": 5,
   "id": "d32982bd",
   "metadata": {},
   "outputs": [
    {
     "name": "stdout",
     "output_type": "stream",
     "text": [
      "--------------------------------------------------\n",
      "All Students marks in subject C\n",
      "--------------------------------------------------\n",
      "Ankit's marks in subject C : 45\n",
      "\n",
      "Aravind's marks in subject C : 34\n",
      "\n",
      "Lakshay's marks in subject C : 13\n",
      "\n",
      "Gyan's marks in subject C : 23\n",
      "\n",
      "Pranav's marks in subject C : 25\n",
      "\n",
      "--------------------------------------------------\n",
      "What is the average marks scored in the subject C?\n",
      "--------------------------------------------------\n",
      "Average marks scored in subject C is 28.0\n"
     ]
    }
   ],
   "source": [
    "print('-'*50)\n",
    "print(\"All Students marks in subject C\")\n",
    "print('-'*50)\n",
    "\n",
    "total_marks_sub_c = 0\n",
    "total_student_counts =len(student_marks)-1\n",
    "\n",
    "for student in student_marks[1:]:\n",
    "    student_name = student[0]\n",
    "    marks_sub_C = student[1][2]\n",
    "    print(f\"{student_name}'s marks in subject C : {marks_sub_C}\\n\")\n",
    "    total_marks_sub_c += marks_sub_C\n",
    "    \n",
    "        \n",
    "print('-'*50)\n",
    "print(\"What is the average marks scored in the subject C?\")\n",
    "print('-'*50)\n",
    "print(f\"Average marks scored in subject C is {total_marks_sub_c/total_student_counts}\")\n"
   ]
  },
  {
   "cell_type": "code",
   "execution_count": 6,
   "id": "53f6b228",
   "metadata": {},
   "outputs": [
    {
     "name": "stdout",
     "output_type": "stream",
     "text": [
      "--------------------------------------------------\n",
      "All Students Total Marks and Percentage\n",
      "--------------------------------------------------\n",
      "Marks for Ankit are as follows:\n",
      "Marks in all Subjects : [41, 34, 45, 55, 63]\n",
      "Total Marks : 238\n",
      "Percentage Scored : 47.6\n",
      "\n",
      "Marks for Aravind are as follows:\n",
      "Marks in all Subjects : [42, 23, 34, 44, 53]\n",
      "Total Marks : 196\n",
      "Percentage Scored : 39.2\n",
      "\n",
      "Marks for Lakshay are as follows:\n",
      "Marks in all Subjects : [32, 23, 13, 54, 67]\n",
      "Total Marks : 189\n",
      "Percentage Scored : 37.8\n",
      "\n",
      "Marks for Gyan are as follows:\n",
      "Marks in all Subjects : [23, 82, 23, 63, 34]\n",
      "Total Marks : 225\n",
      "Percentage Scored : 45.0\n",
      "\n",
      "Marks for Pranav are as follows:\n",
      "Marks in all Subjects : [21, 23, 25, 56, 56]\n",
      "Total Marks : 181\n",
      "Percentage Scored : 36.2\n",
      "\n",
      "--------------------------------------------------\n",
      " Who scored the highest percentage of marks?\n",
      "--------------------------------------------------\n",
      "Ankit has the highest percentage marks with 47.6 %\n"
     ]
    }
   ],
   "source": [
    "print('-'*50)\n",
    "print(\"All Students Total Marks and Percentage\")\n",
    "print('-'*50)\n",
    "\n",
    "\n",
    "\n",
    "highest_percentage = 0\n",
    "topper_by_percentage =''\n",
    "\n",
    "for student in student_marks[1:]:\n",
    "    student_name = student[0]\n",
    "    print(f\"Marks for {student_name} are as follows:\")\n",
    "    marks_all_subjects = student[1]\n",
    "    print(f\"Marks in all Subjects : {marks_all_subjects}\")\n",
    "    total_marks = sum(marks_all_subjects)\n",
    "    print(f\"Total Marks : {total_marks}\")\n",
    "    percentage_marks = total_marks/len(marks_all_subjects)\n",
    "    print(f\"Percentage Scored : {percentage_marks}\\n\")\n",
    "    if percentage_marks>highest_percentage:\n",
    "        highest_percentage=percentage_marks\n",
    "        topper_by_percentage = student_name   \n",
    "   \n",
    "    \n",
    "print('-'*50)\n",
    "print(\" Who scored the highest percentage of marks?\")\n",
    "print('-'*50)\n",
    "print(f\"{topper_by_percentage} has the highest percentage marks with {highest_percentage} %\")"
   ]
  },
  {
   "cell_type": "code",
   "execution_count": 7,
   "id": "b6ddaa5e",
   "metadata": {},
   "outputs": [
    {
     "name": "stdout",
     "output_type": "stream",
     "text": [
      "--------------------------------------------------\n",
      "All Students Total Marks and Percentage in Top 4 subjects\n",
      "--------------------------------------------------\n",
      "Marks for Ankit are as follows:\n",
      "Marks in all Subjects : [41, 34, 45, 55, 63]\n",
      "Marks in all Subjects in descending order : [63, 55, 45, 41, 34]\n",
      "Top 4 subjects marks : [63, 55, 45, 41]\n",
      "Total Marks in Top 4 subjects: 204\n",
      "Percentage Scored in Top 4 subjects : 51.0\n",
      "\n",
      "Marks for Aravind are as follows:\n",
      "Marks in all Subjects : [42, 23, 34, 44, 53]\n",
      "Marks in all Subjects in descending order : [53, 44, 42, 34, 23]\n",
      "Top 4 subjects marks : [53, 44, 42, 34]\n",
      "Total Marks in Top 4 subjects: 173\n",
      "Percentage Scored in Top 4 subjects : 43.25\n",
      "\n",
      "Marks for Lakshay are as follows:\n",
      "Marks in all Subjects : [32, 23, 13, 54, 67]\n",
      "Marks in all Subjects in descending order : [67, 54, 32, 23, 13]\n",
      "Top 4 subjects marks : [67, 54, 32, 23]\n",
      "Total Marks in Top 4 subjects: 176\n",
      "Percentage Scored in Top 4 subjects : 44.0\n",
      "\n",
      "Marks for Gyan are as follows:\n",
      "Marks in all Subjects : [23, 82, 23, 63, 34]\n",
      "Marks in all Subjects in descending order : [82, 63, 34, 23, 23]\n",
      "Top 4 subjects marks : [82, 63, 34, 23]\n",
      "Total Marks in Top 4 subjects: 202\n",
      "Percentage Scored in Top 4 subjects : 50.5\n",
      "\n",
      "Marks for Pranav are as follows:\n",
      "Marks in all Subjects : [21, 23, 25, 56, 56]\n",
      "Marks in all Subjects in descending order : [56, 56, 25, 23, 21]\n",
      "Top 4 subjects marks : [56, 56, 25, 23]\n",
      "Total Marks in Top 4 subjects: 160\n",
      "Percentage Scored in Top 4 subjects : 40.0\n",
      "\n",
      "--------------------------------------------------\n",
      "If considered only top-4 subjects of a candidate, then who scored the highest percentage of marks?\n",
      "--------------------------------------------------\n",
      "Ankit has the highest percentage marks with 51.0 %\n"
     ]
    }
   ],
   "source": [
    "# Method-1: Using python built in function sorted\n",
    "\n",
    "print('-'*50)\n",
    "print(\"All Students Total Marks and Percentage in Top 4 subjects\")\n",
    "print('-'*50)\n",
    "\n",
    "\n",
    "\n",
    "highest_percentage_top_4 = 0\n",
    "topper_by_percentage_top_4 =''\n",
    "\n",
    "for student in student_marks[1:]:\n",
    "    student_name = student[0]\n",
    "    print(f\"Marks for {student_name} are as follows:\")\n",
    "    marks_all_subjects = student[1]\n",
    "    print(f\"Marks in all Subjects : {marks_all_subjects}\")\n",
    "    marks_all_subjects_desc = sorted(marks_all_subjects, reverse=True)\n",
    "    print(f\"Marks in all Subjects in descending order : {marks_all_subjects_desc}\")\n",
    "    marks_top_4 = marks_all_subjects_desc[0:4]\n",
    "    print(f\"Top 4 subjects marks : {marks_top_4}\")\n",
    "    total_marks_top_4 = sum(marks_top_4)\n",
    "    print(f\"Total Marks in Top 4 subjects: {total_marks_top_4}\")\n",
    "    percentage_marks_top_4 = total_marks_top_4/len(marks_top_4)\n",
    "    print(f\"Percentage Scored in Top 4 subjects : {percentage_marks_top_4}\\n\")\n",
    "    if percentage_marks_top_4>highest_percentage_top_4:\n",
    "        highest_percentage_top_4=percentage_marks_top_4\n",
    "        topper_by_percentage_top_4 = student_name   \n",
    "   \n",
    "    \n",
    "print('-'*50)\n",
    "print(\"If considered only top-4 subjects of a candidate, then who scored the highest percentage of marks?\")\n",
    "print('-'*50)\n",
    "print(f\"{topper_by_percentage_top_4} has the highest percentage marks with {highest_percentage_top_4} %\")"
   ]
  },
  {
   "cell_type": "code",
   "execution_count": 8,
   "id": "925beefa",
   "metadata": {},
   "outputs": [
    {
     "name": "stdout",
     "output_type": "stream",
     "text": [
      "--------------------------------------------------\n",
      "All Students Total Marks and Percentage in Top 4 subjects\n",
      "--------------------------------------------------\n",
      "Marks for Ankit are as follows:\n",
      "Marks in all Subjects : [41, 34, 45, 55, 63]\n",
      "Marks in all Subjects in descending order : [63, 55, 45, 41, 34]\n",
      "Top 4 subjects marks : [63, 55, 45, 41]\n",
      "Total Marks in Top 4 subjects: 204\n",
      "Percentage Scored in Top 4 subjects : 51.0\n",
      "\n",
      "Marks for Aravind are as follows:\n",
      "Marks in all Subjects : [42, 23, 34, 44, 53]\n",
      "Marks in all Subjects in descending order : [53, 44, 42, 34, 23]\n",
      "Top 4 subjects marks : [53, 44, 42, 34]\n",
      "Total Marks in Top 4 subjects: 173\n",
      "Percentage Scored in Top 4 subjects : 43.25\n",
      "\n",
      "Marks for Lakshay are as follows:\n",
      "Marks in all Subjects : [32, 23, 13, 54, 67]\n",
      "Marks in all Subjects in descending order : [67, 54, 32, 23, 13]\n",
      "Top 4 subjects marks : [67, 54, 32, 23]\n",
      "Total Marks in Top 4 subjects: 176\n",
      "Percentage Scored in Top 4 subjects : 44.0\n",
      "\n",
      "Marks for Gyan are as follows:\n",
      "Marks in all Subjects : [23, 82, 23, 63, 34]\n",
      "Marks in all Subjects in descending order : [82, 63, 34, 23, 23]\n",
      "Top 4 subjects marks : [82, 63, 34, 23]\n",
      "Total Marks in Top 4 subjects: 202\n",
      "Percentage Scored in Top 4 subjects : 50.5\n",
      "\n",
      "Marks for Pranav are as follows:\n",
      "Marks in all Subjects : [21, 23, 25, 56, 56]\n",
      "Marks in all Subjects in descending order : [56, 56, 25, 23, 21]\n",
      "Top 4 subjects marks : [56, 56, 25, 23]\n",
      "Total Marks in Top 4 subjects: 160\n",
      "Percentage Scored in Top 4 subjects : 40.0\n",
      "\n",
      "--------------------------------------------------\n",
      "If considered only top-4 subjects of a candidate, then who scored the highest percentage of marks?\n",
      "--------------------------------------------------\n",
      "Ankit has the highest percentage marks with 51.0 %\n"
     ]
    }
   ],
   "source": [
    "# Method-2: Using List built in methid sort\n",
    "\n",
    "print('-'*50)\n",
    "print(\"All Students Total Marks and Percentage in Top 4 subjects\")\n",
    "print('-'*50)\n",
    "\n",
    "\n",
    "\n",
    "highest_percentage_top_4 = 0\n",
    "topper_by_percentage_top_4 =''\n",
    "\n",
    "for student in student_marks[1:]:\n",
    "    student_name = student[0]\n",
    "    print(f\"Marks for {student_name} are as follows:\")\n",
    "    marks_all_subjects = student[1]\n",
    "    print(f\"Marks in all Subjects : {marks_all_subjects}\")\n",
    "    marks_all_subjects.sort(reverse=True)\n",
    "    print(f\"Marks in all Subjects in descending order : {marks_all_subjects}\")\n",
    "    marks_top_4 = marks_all_subjects[0:4]\n",
    "    print(f\"Top 4 subjects marks : {marks_top_4}\")\n",
    "    total_marks_top_4 = sum(marks_top_4)\n",
    "    print(f\"Total Marks in Top 4 subjects: {total_marks_top_4}\")\n",
    "    percentage_marks_top_4 = total_marks_top_4/len(marks_top_4)\n",
    "    print(f\"Percentage Scored in Top 4 subjects : {percentage_marks_top_4}\\n\")\n",
    "    if percentage_marks_top_4>highest_percentage_top_4:\n",
    "        highest_percentage_top_4=percentage_marks_top_4\n",
    "        topper_by_percentage_top_4 = student_name   \n",
    "   \n",
    "    \n",
    "print('-'*50)\n",
    "print(\"If considered only top-4 subjects of a candidate, then who scored the highest percentage of marks?\")\n",
    "print('-'*50)\n",
    "print(f\"{topper_by_percentage_top_4} has the highest percentage marks with {highest_percentage_top_4} %\")"
   ]
  }
 ],
 "metadata": {
  "kernelspec": {
   "display_name": "Python 3 (ipykernel)",
   "language": "python",
   "name": "python3"
  },
  "language_info": {
   "codemirror_mode": {
    "name": "ipython",
    "version": 3
   },
   "file_extension": ".py",
   "mimetype": "text/x-python",
   "name": "python",
   "nbconvert_exporter": "python",
   "pygments_lexer": "ipython3",
   "version": "3.9.13"
  }
 },
 "nbformat": 4,
 "nbformat_minor": 5
}
