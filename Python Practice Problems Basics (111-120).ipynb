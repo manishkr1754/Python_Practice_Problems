{
 "cells": [
  {
   "cell_type": "markdown",
   "id": "2dc09ffc",
   "metadata": {},
   "source": [
    "# Python Practice Problems Basics (111-120)"
   ]
  },
  {
   "cell_type": "markdown",
   "id": "f568f01f",
   "metadata": {},
   "source": [
    "#### 111. Write a Python program to find the first appearance of the substrings 'not' and 'poor' in a given string. If 'not' follows 'poor', replace the whole 'not'...'poor' substring with 'good'. Return the resulting string."
   ]
  },
  {
   "cell_type": "raw",
   "id": "2abd6995",
   "metadata": {},
   "source": [
    "Sample String : 'The lyrics is not that poor!'\n",
    "'The lyrics is good!'\n",
    "Expected Result : 'The lyrics is good!'\n",
    "'The lyrics is poor!'"
   ]
  },
  {
   "cell_type": "code",
   "execution_count": 6,
   "id": "ed21b8f2",
   "metadata": {},
   "outputs": [
    {
     "name": "stdout",
     "output_type": "stream",
     "text": [
      "Enter the string : The lyrics is not that poor!\n",
      "You have entered The lyrics is not that poor!\n",
      "'not' first appearance is at 14th position in the string\n",
      "'poor' first appearance is at 23th position in the string\n",
      "\n",
      "New required string formed:\n",
      "The lyrics is good!\n"
     ]
    }
   ],
   "source": [
    "input_string = input(\"Enter the string : \")\n",
    "\n",
    "print(f\"You have entered {input_string}\")\n",
    "\n",
    "not_starting_index = input_string.index('not')\n",
    "\n",
    "print(f\"'not' first appearance is at {not_starting_index}th position in the string\")\n",
    "\n",
    "poor_starting_index = input_string.index('poor')\n",
    "\n",
    "print(f\"'poor' first appearance is at {poor_starting_index}th position in the string\")\n",
    "\n",
    "if not_starting_index < poor_starting_index:\n",
    "    new_string_formed = input_string.replace(input_string[not_starting_index:poor_starting_index+4],'good')\n",
    "else:\n",
    "    pass\n",
    "    \n",
    "print(f\"\\nNew required string formed:\\n{new_string_formed}\")"
   ]
  },
  {
   "cell_type": "code",
   "execution_count": 11,
   "id": "7680f879",
   "metadata": {},
   "outputs": [
    {
     "name": "stdout",
     "output_type": "stream",
     "text": [
      "Enter the string : The lyrics is good!\n",
      "You have entered The lyrics is good!\n"
     ]
    },
    {
     "ename": "ValueError",
     "evalue": "substring not found",
     "output_type": "error",
     "traceback": [
      "\u001b[1;31m---------------------------------------------------------------------------\u001b[0m",
      "\u001b[1;31mValueError\u001b[0m                                Traceback (most recent call last)",
      "\u001b[1;32m~\\AppData\\Local\\Temp\\ipykernel_10196\\344349585.py\u001b[0m in \u001b[0;36m<module>\u001b[1;34m\u001b[0m\n\u001b[0;32m      4\u001b[0m \u001b[0mprint\u001b[0m\u001b[1;33m(\u001b[0m\u001b[1;34mf\"You have entered {input_string}\"\u001b[0m\u001b[1;33m)\u001b[0m\u001b[1;33m\u001b[0m\u001b[1;33m\u001b[0m\u001b[0m\n\u001b[0;32m      5\u001b[0m \u001b[1;33m\u001b[0m\u001b[0m\n\u001b[1;32m----> 6\u001b[1;33m \u001b[0mnot_starting_index\u001b[0m \u001b[1;33m=\u001b[0m \u001b[0minput_string\u001b[0m\u001b[1;33m.\u001b[0m\u001b[0mindex\u001b[0m\u001b[1;33m(\u001b[0m\u001b[1;34m'not'\u001b[0m\u001b[1;33m)\u001b[0m\u001b[1;33m\u001b[0m\u001b[1;33m\u001b[0m\u001b[0m\n\u001b[0m\u001b[0;32m      7\u001b[0m \u001b[1;33m\u001b[0m\u001b[0m\n\u001b[0;32m      8\u001b[0m \u001b[0mprint\u001b[0m\u001b[1;33m(\u001b[0m\u001b[1;34mf\"'not' first appearance is at {not_starting_index}th position in the string\"\u001b[0m\u001b[1;33m)\u001b[0m\u001b[1;33m\u001b[0m\u001b[1;33m\u001b[0m\u001b[0m\n",
      "\u001b[1;31mValueError\u001b[0m: substring not found"
     ]
    }
   ],
   "source": [
    "# this will not work for second sample string\n",
    "input_string = input(\"Enter the string : \")\n",
    "\n",
    "print(f\"You have entered {input_string}\")\n",
    "\n",
    "not_starting_index = input_string.index('not')\n",
    "\n",
    "print(f\"'not' first appearance is at {not_starting_index}th position in the string\")\n",
    "\n",
    "poor_starting_index = input_string.index('poor')\n",
    "\n",
    "print(f\"'poor' first appearance is at {poor_starting_index}th position in the string\")\n",
    "\n",
    "if not_starting_index < poor_starting_index:\n",
    "    new_string_formed = input_string.replace(input_string[not_starting_index:poor_starting_index+4],'good')\n",
    "else:\n",
    "    pass\n",
    "    \n",
    "print(f\"\\nNew required string formed:\\n{new_string_formed}\")"
   ]
  },
  {
   "cell_type": "code",
   "execution_count": 10,
   "id": "815a0f79",
   "metadata": {},
   "outputs": [
    {
     "name": "stdout",
     "output_type": "stream",
     "text": [
      "Enter the string : The lyrics is good!\n",
      "You have entered The lyrics is good!\n",
      "\n",
      "New required string formed:\n",
      "The lyrics is good!\n"
     ]
    }
   ],
   "source": [
    "input_string = input(\"Enter the string : \")\n",
    "\n",
    "print(f\"You have entered {input_string}\")\n",
    "\n",
    "not_starting_index = input_string.find('not')\n",
    "\n",
    "poor_starting_index = input_string.find('poor')\n",
    "\n",
    "if not_starting_index < poor_starting_index:\n",
    "    input_string.replace(input_string[not_starting_index:poor_starting_index+4],'good')\n",
    "else:\n",
    "    input_string\n",
    "    \n",
    "print(f\"\\nNew required string formed:\\n{new_string_formed}\")"
   ]
  },
  {
   "cell_type": "markdown",
   "id": "3e417597",
   "metadata": {},
   "source": [
    "#### 112. Write a Python function that takes a list of words and return the longest word and the length of the longest one"
   ]
  },
  {
   "cell_type": "code",
   "execution_count": 57,
   "id": "e6922665",
   "metadata": {},
   "outputs": [],
   "source": [
    "def find_longest_word(list_of_words):\n",
    "    longest_word = \"\"\n",
    "    longest_word_length = 0\n",
    "    \n",
    "    for word in list_of_words:\n",
    "        if len(word) > longest_word_length:\n",
    "            longest_word = word\n",
    "            longest_word_length = len(word)\n",
    "    return (longest_word,longest_word_length)"
   ]
  },
  {
   "cell_type": "code",
   "execution_count": 58,
   "id": "a74bd585",
   "metadata": {},
   "outputs": [
    {
     "data": {
      "text/plain": [
       "('lyrics', 6)"
      ]
     },
     "execution_count": 58,
     "metadata": {},
     "output_type": "execute_result"
    }
   ],
   "source": [
    "find_longest_word(['The', 'lyrics', 'is', 'good'])"
   ]
  },
  {
   "cell_type": "code",
   "execution_count": 60,
   "id": "16a001e3",
   "metadata": {},
   "outputs": [
    {
     "data": {
      "text/plain": [
       "('United States of America', 24)"
      ]
     },
     "execution_count": 60,
     "metadata": {},
     "output_type": "execute_result"
    }
   ],
   "source": [
    "find_longest_word(['India','is','competing','with','Luxemburg','Switzerand','United States of America'])"
   ]
  },
  {
   "cell_type": "markdown",
   "id": "2f1b6d89",
   "metadata": {},
   "source": [
    "#### 113. Write a Python program to remove the nth index character from a nonempty string"
   ]
  },
  {
   "cell_type": "code",
   "execution_count": 67,
   "id": "f2ef4356",
   "metadata": {},
   "outputs": [],
   "source": [
    "def remove_char_from_index(given_string, index):\n",
    "    string_part_before_index = given_string[:index]\n",
    "    string_part_after_index = given_string[index+1:]\n",
    "    return string_part_before_index + string_part_after_index"
   ]
  },
  {
   "cell_type": "code",
   "execution_count": 68,
   "id": "b9d7317d",
   "metadata": {},
   "outputs": [
    {
     "data": {
      "text/plain": [
       "'uxemburg'"
      ]
     },
     "execution_count": 68,
     "metadata": {},
     "output_type": "execute_result"
    }
   ],
   "source": [
    "remove_char_from_index('Luxemburg',0)"
   ]
  },
  {
   "cell_type": "code",
   "execution_count": 69,
   "id": "533b7c4c",
   "metadata": {},
   "outputs": [
    {
     "data": {
      "text/plain": [
       "'Luxmburg'"
      ]
     },
     "execution_count": 69,
     "metadata": {},
     "output_type": "execute_result"
    }
   ],
   "source": [
    "remove_char_from_index('Luxemburg',3)"
   ]
  },
  {
   "cell_type": "code",
   "execution_count": 70,
   "id": "fdab8bc6",
   "metadata": {},
   "outputs": [
    {
     "data": {
      "text/plain": [
       "'Luxemurg'"
      ]
     },
     "execution_count": 70,
     "metadata": {},
     "output_type": "execute_result"
    }
   ],
   "source": [
    "remove_char_from_index('Luxemburg',5)"
   ]
  },
  {
   "cell_type": "code",
   "execution_count": 72,
   "id": "2e6128fd",
   "metadata": {},
   "outputs": [
    {
     "name": "stdout",
     "output_type": "stream",
     "text": [
      "Enter the string : Luxemburg\n",
      "You have entered Luxemburg\n",
      "Enter the index for which you want to remove element : 3\n",
      "You want to remove 3th element\n",
      "Input string Luxemburg after removal of 3th element : Luxmburg\n"
     ]
    }
   ],
   "source": [
    "input_string = input(\"Enter the string : \")\n",
    "\n",
    "print(f\"You have entered {input_string}\")\n",
    "\n",
    "index = int(input(\"Enter the index for which you want to remove element : \"))\n",
    "\n",
    "print(f\"You want to remove {index}th element\")\n",
    "\n",
    "string_after_removal = input_string.replace(input_string[index],'')\n",
    "\n",
    "print(f\"Input string {input_string} after removal of {index}th element : {string_after_removal}\")"
   ]
  },
  {
   "cell_type": "markdown",
   "id": "5f2ddae6",
   "metadata": {},
   "source": [
    "#### 114. Write a Python program to change a given string to a newly string where the first and last chars have been exchanged."
   ]
  },
  {
   "cell_type": "code",
   "execution_count": 74,
   "id": "7c2207ce",
   "metadata": {},
   "outputs": [
    {
     "name": "stdout",
     "output_type": "stream",
     "text": [
      "Enter the string : Luxemburg\n",
      "You have entered Luxemburg\n",
      "\n",
      "String after modification :\n",
      "guxemburL\n"
     ]
    }
   ],
   "source": [
    "input_string = input(\"Enter the string : \")\n",
    "\n",
    "print(f\"You have entered {input_string}\")\n",
    "\n",
    "string_modified = input_string[-1] + input_string[1:-1] + input_string[0]\n",
    "\n",
    "print(f\"\\nString after modification :\\n{string_modified}\")"
   ]
  },
  {
   "cell_type": "markdown",
   "id": "82bdab36",
   "metadata": {},
   "source": [
    "#### 115. Write a Python program to remove characters that have odd index values in a given string. "
   ]
  },
  {
   "cell_type": "code",
   "execution_count": 76,
   "id": "b8b35490",
   "metadata": {},
   "outputs": [
    {
     "name": "stdout",
     "output_type": "stream",
     "text": [
      "Enter the string : Luxemburg\n",
      "You have entered Luxemburg\n",
      "\n",
      "String after modification :\n",
      "Lxmug\n"
     ]
    }
   ],
   "source": [
    "input_string = input(\"Enter the string : \")\n",
    "\n",
    "print(f\"You have entered {input_string}\")\n",
    "\n",
    "string_modified =\"\"\n",
    "\n",
    "for char_index in range(len(input_string)):\n",
    "    if char_index % 2 ==0:\n",
    "        string_modified = string_modified + input_string[char_index]\n",
    "        \n",
    "print(f\"\\nString after modification :\\n{string_modified}\")"
   ]
  },
  {
   "cell_type": "code",
   "execution_count": 86,
   "id": "5f87ccd5",
   "metadata": {},
   "outputs": [
    {
     "name": "stdout",
     "output_type": "stream",
     "text": [
      "Enter the string : Luxemburg\n",
      "You have entered Luxemburg\n",
      "\n",
      "String after modification :\n",
      "Lxmug\n"
     ]
    }
   ],
   "source": [
    "input_string = input(\"Enter the string : \")\n",
    "\n",
    "print(f\"You have entered {input_string}\")\n",
    "\n",
    "string_modified = input_string[::2]\n",
    "        \n",
    "print(f\"\\nString after modification :\\n{string_modified}\")"
   ]
  },
  {
   "cell_type": "markdown",
   "id": "7ebd160d",
   "metadata": {},
   "source": [
    "#### 116. Write a Python program to count the occurrences of each word in a given sentence."
   ]
  },
  {
   "cell_type": "code",
   "execution_count": 90,
   "id": "ade8fd80",
   "metadata": {},
   "outputs": [
    {
     "name": "stdout",
     "output_type": "stream",
     "text": [
      "Enter the sentence : Democracy is for the people by the people  and of the people\n",
      "You have entered sentence :\n",
      "Democracy is for the people by the people  and of the people\n",
      "These are the following word  from your input : ['Democracy', 'is', 'for', 'the', 'people', 'by', 'the', 'people', '', 'and', 'of', 'the', 'people']\n",
      "\n",
      "Word frequency of Democracy is for the people by the people  and of the people is :\n",
      "{'Democracy': 1, 'is': 1, 'for': 1, 'the': 3, 'people': 3, 'by': 1, '': 1, 'and': 1, 'of': 1}\n"
     ]
    }
   ],
   "source": [
    "input_sentence = input(\"Enter the sentence : \")\n",
    "\n",
    "print(f\"You have entered sentence :\\n{input_sentence}\")\n",
    "\n",
    "word_list = input_sentence.split(\" \")\n",
    "\n",
    "print(f\"These are the following word  from your input : {word_list}\")\n",
    "\n",
    "word_count = {}\n",
    "\n",
    "for word in word_list:\n",
    "    word_as_key = word_count.keys()\n",
    "    if word in word_as_key:\n",
    "        word_count[word] += 1\n",
    "    else:\n",
    "        word_count[word] = 1\n",
    "        \n",
    "print(f\"\\nWord frequency of {input_sentence} is :\\n{word_count}\")        "
   ]
  },
  {
   "cell_type": "code",
   "execution_count": 91,
   "id": "6d4ef58d",
   "metadata": {},
   "outputs": [
    {
     "name": "stdout",
     "output_type": "stream",
     "text": [
      "Enter the sentence : Democracy is for the people by the people  and of the people\n",
      "You have entered sentence :\n",
      "Democracy is for the people by the people  and of the people\n",
      "These are the following word  from your input : ['Democracy', 'is', 'for', 'the', 'people', 'by', 'the', 'people', '', 'and', 'of', 'the', 'people']\n",
      "\n",
      "Word frequency of Democracy is for the people by the people  and of the people is :\n",
      "{'Democracy': 1, 'is': 1, 'for': 1, 'the': 3, 'people': 3, 'by': 1, '': 1, 'and': 1, 'of': 1}\n"
     ]
    }
   ],
   "source": [
    "input_sentence = input(\"Enter the sentence : \")\n",
    "\n",
    "print(f\"You have entered sentence :\\n{input_sentence}\")\n",
    "\n",
    "word_list = input_sentence.split(\" \")\n",
    "\n",
    "print(f\"These are the following word  from your input : {word_list}\")\n",
    "\n",
    "word_count = {}\n",
    "\n",
    "for word in word_list:\n",
    "    word_count[word] = word_list.count(word)\n",
    "    \n",
    "print(f\"\\nWord frequency of {input_sentence} is :\\n{word_count}\")   "
   ]
  },
  {
   "cell_type": "code",
   "execution_count": 92,
   "id": "a65432fe",
   "metadata": {},
   "outputs": [
    {
     "name": "stdout",
     "output_type": "stream",
     "text": [
      "Enter the sentence : Democracy is for the people by the people  and of the people\n",
      "You have entered sentence :\n",
      "Democracy is for the people by the people  and of the people\n",
      "These are the following word  from your input : ['Democracy', 'is', 'for', 'the', 'people', 'by', 'the', 'people', '', 'and', 'of', 'the', 'people']\n",
      "\n",
      "Word frequency of Democracy is for the people by the people  and of the people is :\n",
      "{'Democracy': 1, 'is': 1, 'for': 1, 'the': 3, 'people': 3, 'by': 1, '': 1, 'and': 1, 'of': 1}\n"
     ]
    }
   ],
   "source": [
    "input_sentence = input(\"Enter the sentence : \")\n",
    "\n",
    "print(f\"You have entered sentence :\\n{input_sentence}\")\n",
    "\n",
    "word_list = input_sentence.split(\" \")\n",
    "\n",
    "print(f\"These are the following word  from your input : {word_list}\")\n",
    "\n",
    "word_count = {word:word_list.count(word) for word in word_list}\n",
    "\n",
    "print(f\"\\nWord frequency of {input_sentence} is :\\n{word_count}\")   "
   ]
  },
  {
   "cell_type": "markdown",
   "id": "1e39e4d6",
   "metadata": {},
   "source": [
    "#### 117. Write a Python script that takes input from the user and displays that input back in upper and lower cases."
   ]
  },
  {
   "cell_type": "code",
   "execution_count": 94,
   "id": "e4e08ed8",
   "metadata": {},
   "outputs": [
    {
     "name": "stdout",
     "output_type": "stream",
     "text": [
      "Enter the string : World is a family\n",
      "You have entered World is a family\n",
      "The string World is a family in uppercase is WORLD IS A FAMILY\n",
      "The string World is a family in lowercase is world is a family\n"
     ]
    }
   ],
   "source": [
    "input_given = input(\"Enter the string : \")\n",
    "\n",
    "print(f\"You have entered {input_given}\")\n",
    "\n",
    "string_upper = input_given.upper()\n",
    "string_lower = input_given.lower()\n",
    "\n",
    "print(f\"The string {input_given} in uppercase is {string_upper}\")\n",
    "\n",
    "print(f\"The string {input_given} in lowercase is {string_lower}\")"
   ]
  },
  {
   "cell_type": "markdown",
   "id": "0f1a8b96",
   "metadata": {},
   "source": [
    "#### 118. Write a Python program that accepts a comma-separated sequence of words as input and prints the distinct words in sorted form (alphanumerically)"
   ]
  },
  {
   "cell_type": "raw",
   "id": "76bd8751",
   "metadata": {},
   "source": [
    "Sample Words : red, white, black, red, green, black\n",
    "Expected Result : black, green, red, white,red"
   ]
  },
  {
   "cell_type": "code",
   "execution_count": 99,
   "id": "3c1e5a91",
   "metadata": {},
   "outputs": [
    {
     "name": "stdout",
     "output_type": "stream",
     "text": [
      "Enter the words separated by comma : red,white,black,red,green,black\n",
      "You have entered sentence :\n",
      "red,white,black,red,green,black\n",
      "\n",
      "Required sorted distinct words alphanumerically :\n",
      "['black', 'green', 'red', 'white']\n"
     ]
    }
   ],
   "source": [
    "input_given = input(\"Enter the words separated by comma : \")\n",
    "\n",
    "print(f\"You have entered following :\\n{input_given}\")\n",
    "\n",
    "word_list = sorted(set(input_given.split(\",\")))\n",
    "\n",
    "print(f\"\\nRequired sorted distinct words alphanumerically :\\n{word_list}\")\n"
   ]
  },
  {
   "cell_type": "code",
   "execution_count": 101,
   "id": "9b3fc6ca",
   "metadata": {},
   "outputs": [
    {
     "name": "stdout",
     "output_type": "stream",
     "text": [
      "Enter the words separated by comma : red,white,black,red,green,black\n",
      "You have entered sentence :\n",
      "red,white,black,red,green,black\n",
      "\n",
      "Required sorted distinct words alphanumerically :\n",
      "['black', 'green', 'red', 'white']\n"
     ]
    }
   ],
   "source": [
    "input_given = input(\"Enter the words separated by comma : \")\n",
    "\n",
    "print(f\"You have entered sentence :\\n{input_given}\")\n",
    "\n",
    "word_list = sorted(set([word for word in input_given.split(\",\")]))\n",
    "\n",
    "print(f\"\\nRequired sorted distinct words alphanumerically :\\n{word_list}\")\n"
   ]
  },
  {
   "cell_type": "code",
   "execution_count": null,
   "id": "e45d4918",
   "metadata": {},
   "outputs": [],
   "source": [
    "input_given = input(\"Enter the words separated by comma : \")\n",
    "\n",
    "print(f\"You have entered sentence :\\n{input_given}\")\n",
    "\n",
    "word_list = set([word for word in input_given.split(\",\")])"
   ]
  },
  {
   "cell_type": "markdown",
   "id": "7e93cf98",
   "metadata": {},
   "source": [
    "#### 119. Write a Python function to insert a string in the middle of a string."
   ]
  },
  {
   "cell_type": "raw",
   "id": "c1501ccd",
   "metadata": {},
   "source": [
    "Sample function and result :\n",
    "insert_sting_middle('[[]]<<>>', 'Python') -> [[Python]]\n",
    "insert_sting_middle('{{}}', 'PHP') -> {{PHP}}"
   ]
  },
  {
   "cell_type": "code",
   "execution_count": 106,
   "id": "0f64e57f",
   "metadata": {},
   "outputs": [
    {
     "name": "stdout",
     "output_type": "stream",
     "text": [
      "Enter the first string : Great Place\n",
      "Enter the second string : India\n",
      "Required Modified string : \n",
      "GreatIndia Place\n"
     ]
    }
   ],
   "source": [
    "string1 = input(\"Enter the first string : \")\n",
    "\n",
    "string2 = input(\"Enter the second string : \")\n",
    "\n",
    "string1_length = len(string1)\n",
    "\n",
    "if string1_length%2==0:\n",
    "    string_modified = string1[0:string1_length/2] + string2 + string1[string1_length/2:]\n",
    "else:\n",
    "    string_modified = string1[0:string1_length//2] + string2 + string1[string1_length//2:]\n",
    "    \n",
    "print(f\"Required Modified string : \\n{string_modified}\")"
   ]
  },
  {
   "cell_type": "code",
   "execution_count": 108,
   "id": "d99477b4",
   "metadata": {},
   "outputs": [
    {
     "name": "stdout",
     "output_type": "stream",
     "text": [
      "Enter the first string : [[ ]]\n",
      "Enter the second string : Python\n",
      "Required Modified string : \n",
      "[[Python ]]\n"
     ]
    }
   ],
   "source": [
    "string1 = input(\"Enter the first string : \")\n",
    "\n",
    "string2 = input(\"Enter the second string : \")\n",
    "\n",
    "string1_length = len(string1)\n",
    "\n",
    "if string1_length%2==0:\n",
    "    string_modified = string1[0:string1_length/2] + string2 + string1[string1_length/2:]\n",
    "else:\n",
    "    string_modified = string1[0:string1_length//2] + string2 + string1[string1_length//2:]\n",
    "    \n",
    "print(f\"Required Modified string : \\n{string_modified}\")"
   ]
  },
  {
   "cell_type": "markdown",
   "id": "ffa964c4",
   "metadata": {},
   "source": [
    "#### 120. Write a Python function to get a string made of 4 copies of the last two characters of a specified string (length must be at least 2)."
   ]
  },
  {
   "cell_type": "raw",
   "id": "368686b4",
   "metadata": {},
   "source": [
    "Sample function and result :\n",
    "insert_end('Python') -> onononon\n",
    "insert_end('Exercises') -> eseseses"
   ]
  },
  {
   "cell_type": "code",
   "execution_count": 114,
   "id": "21914e0c",
   "metadata": {},
   "outputs": [
    {
     "name": "stdout",
     "output_type": "stream",
     "text": [
      "Enter the string : Python\n",
      "You have entered Python\n",
      "Required Modified string : \n",
      "onononon\n"
     ]
    }
   ],
   "source": [
    "input_string = input(\"Enter the string : \")\n",
    "\n",
    "print(f\"You have entered {input_string}\")\n",
    "\n",
    "if len(input_string)>2:\n",
    "    string_modified = input_string[-2:]*4\n",
    "else:\n",
    "    string_modified = input_string\n",
    "print(f\"Required Modified string : \\n{string_modified}\")"
   ]
  },
  {
   "cell_type": "code",
   "execution_count": 115,
   "id": "1ebebc22",
   "metadata": {},
   "outputs": [
    {
     "name": "stdout",
     "output_type": "stream",
     "text": [
      "Enter the string : Exercises\n",
      "You have entered Exercises\n",
      "Required Modified string : \n",
      "eseseses\n"
     ]
    }
   ],
   "source": [
    "input_string = input(\"Enter the string : \")\n",
    "\n",
    "print(f\"You have entered {input_string}\")\n",
    "\n",
    "if len(input_string)>2:\n",
    "    string_modified = input_string[-2:]*4\n",
    "else:\n",
    "    string_modified = input_string\n",
    "print(f\"Required Modified string : \\n{string_modified}\")"
   ]
  }
 ],
 "metadata": {
  "kernelspec": {
   "display_name": "Python 3 (ipykernel)",
   "language": "python",
   "name": "python3"
  },
  "language_info": {
   "codemirror_mode": {
    "name": "ipython",
    "version": 3
   },
   "file_extension": ".py",
   "mimetype": "text/x-python",
   "name": "python",
   "nbconvert_exporter": "python",
   "pygments_lexer": "ipython3",
   "version": "3.9.13"
  }
 },
 "nbformat": 4,
 "nbformat_minor": 5
}
