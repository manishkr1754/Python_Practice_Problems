{
 "cells": [
  {
   "cell_type": "markdown",
   "id": "d540a079",
   "metadata": {},
   "source": [
    "---\n",
    "---\n",
    "\n",
    "<center> <h1> Repeated Substring Pattern Problem </h1> </center>\n",
    "\n",
    "---\n",
    "---"
   ]
  },
  {
   "cell_type": "markdown",
   "id": "52e38bdd",
   "metadata": {},
   "source": [
    "## Problem Statement\n",
    "\n",
    "Repeated Substring Pattern is a problem that involves finding whether a given string can be formed by repeating a substring.\n",
    "\n",
    "- Given a string, determine if it can be formed by repeating a substring.\n",
    "\n",
    "---"
   ]
  },
  {
   "cell_type": "markdown",
   "id": "1b4ab8dd",
   "metadata": {},
   "source": [
    "## Approach\n",
    "\n",
    "To solve this problem, we can try to find a substring from the given string such that the given string can be formed by multiple copies of substring. We can check all the possible substrings of  given string and try to form given string by concatenatenating copies of each of them. If  we find a substring that can be used to form given string then we can return **True**, otherwise **False**.\n",
    "\n",
    "- **Sample Input:** \"abab\"\n",
    "- **Sample Output:** True\n",
    "\n",
    "In this sample example, there is string given as input **\"abab\"**. And when a substring **\"ab\"** of the given string (\"abab\") is repeated twice, it forms the string given in the input. So, the output is **True**.\n",
    "\n",
    "This approach can be implemented using **string manipulation** and **pattern matching techniques**.\n",
    "\n",
    "- **String manipulation** is the process of **modifying or analyzing a string** to extract information from it or to transform it in some way. In the context of the Repeated Substring Pattern problem, string manipulation involves examining the input string to determine if it can be formed by repeating a substring.\n",
    "\n",
    "- **Pattern matching** is the process of **finding patterns within a string or other data structure**. In the context of the Repeated Substring Pattern problem, pattern matching involves searching for a substring that can be used to form the input string by concatenating multiple copies of substring.\n",
    "\n",
    "\n",
    "In practice, string manipulation and pattern matching techniques are often used together to solve problems that involve examining or manipulating strings\n",
    "\n",
    "---"
   ]
  },
  {
   "cell_type": "markdown",
   "id": "5d145aac",
   "metadata": {},
   "source": [
    "## Use Cases\n",
    "\n",
    "Repeated Substring Pattern problem is becoming increasingly important in fields of Natural Language Processing, Bioinformatics, Data Science and Artificial Intelligence.\n",
    "\n",
    "- **1. Analysis of Time Series Data:** Time series data often exhibit repeating patterns such as daily, weekly or seasonal variations. By applying the repeated substring pattern algorithm to time series data, it is possible to identify these repeating patterns and to extract valuable insights from the data. For example, by identifying seasonal patterns in sales data, a retailer can optimize inventory management, marketing campaigns and pricing strategies.\n",
    "\n",
    "- **2. Analysis of Web logs or clickstream data:** These data often contain repetitive patterns such as user sessions which can be identified using the repeated substring pattern algorithm. By analyzing these repetitive patterns, it is possible to gain insights into user behavior, to detect anomalies or fraud and to optimize website design and user experience.\n",
    "\n",
    "- **3. Analysis of Computer logs:** Computer logs often contain repetitive patterns such as timestamps or error messages which can be identified using the repeated substring pattern algorithm. By identifying and extracting these repetitive patterns, it is possible to gain insights into the behavior of computer systems, detect anomalies or errors and optimize system performance. For example, by analyzing repetitive error messages in computer logs, it may be possible to identify the root cause of a system failure or to prevent future failures by fixing the underlying issue.\n",
    "\n",
    "- **4. Analysis of Text Data:** In natural language text, it is common to find repeated patterns of words or phrases such as idioms, quotes or common expressions. By identifying and extracting these repeated patterns, it is possible to gain insights into the structure and content of the text as well as to improve natural language processing tasks such as text classification, information retrieval and machine translation. For example, the repeated substring pattern algorithm can be used to identify and extract repeated phrases or idioms in a large corpus of text which can then be used to create a language model or to improve the accuracy of a machine translation system.\n",
    "\n",
    "- **5. Detect repetitive pattern in DNA:** Repeated substring pattern algorithm can be used to identify simple sequence repeats (SSRs) which are regions of DNA where a short sequence of nucleotides is repeated multiple times. SSRs are used as genetic markers in many applications including population genetics, forensics and plant and animal breeding.\n",
    "\n",
    "---"
   ]
  },
  {
   "cell_type": "markdown",
   "id": "730acce6",
   "metadata": {},
   "source": [
    "## Solution"
   ]
  },
  {
   "cell_type": "code",
   "execution_count": 2,
   "id": "81099e22",
   "metadata": {},
   "outputs": [],
   "source": [
    "# Defining function for the problem which takes string as input\n",
    "def RepeatedSubstringPattern(s):\n",
    "    \"\"\"\n",
    "    Given a string `s`, checks if it can be formed by repeating a substring of itself.\n",
    "\n",
    "    The function concatenates the input string `s` with itself, removes the first and last \n",
    "    characters of the resulting string and searches for the original string `s` within the \n",
    "    modified string using the `find()` method. If the `find()` method returns a value other \n",
    "    than `-1`, it means that `s` can be formed by repeating a substring of itself.\n",
    "\n",
    "    Args:\n",
    "        s (str): The input string to be checked.\n",
    "\n",
    "    Returns:\n",
    "        bool: True if `s` can be formed by repeating a substring of itself, False otherwise.\n",
    "\n",
    "    Example:\n",
    "        RepeatedSubstringPattern(\"abcabc\") -> True\n",
    "        RepeatedSubstringPattern(\"abc\") -> False\n",
    "    \"\"\"\n",
    "    string = (s + s)[1:-1]\n",
    "    return string.find(s) != -1"
   ]
  },
  {
   "cell_type": "markdown",
   "id": "c1052748",
   "metadata": {},
   "source": [
    "## Test Cases"
   ]
  },
  {
   "cell_type": "code",
   "execution_count": 3,
   "id": "8ae8fa61",
   "metadata": {},
   "outputs": [
    {
     "data": {
      "text/plain": [
       "True"
      ]
     },
     "execution_count": 3,
     "metadata": {},
     "output_type": "execute_result"
    }
   ],
   "source": [
    "RepeatedSubstringPattern(\"abab\")"
   ]
  },
  {
   "cell_type": "code",
   "execution_count": 4,
   "id": "4622e77f",
   "metadata": {},
   "outputs": [
    {
     "data": {
      "text/plain": [
       "True"
      ]
     },
     "execution_count": 4,
     "metadata": {},
     "output_type": "execute_result"
    }
   ],
   "source": [
    "RepeatedSubstringPattern(\"abcabc\")"
   ]
  },
  {
   "cell_type": "code",
   "execution_count": 5,
   "id": "df0eb1a7",
   "metadata": {},
   "outputs": [
    {
     "data": {
      "text/plain": [
       "False"
      ]
     },
     "execution_count": 5,
     "metadata": {},
     "output_type": "execute_result"
    }
   ],
   "source": [
    "RepeatedSubstringPattern(\"abcab\")"
   ]
  },
  {
   "cell_type": "code",
   "execution_count": 6,
   "id": "1e6059fe",
   "metadata": {},
   "outputs": [
    {
     "data": {
      "text/plain": [
       "False"
      ]
     },
     "execution_count": 6,
     "metadata": {},
     "output_type": "execute_result"
    }
   ],
   "source": [
    "RepeatedSubstringPattern(\"acbab\")"
   ]
  },
  {
   "cell_type": "code",
   "execution_count": 7,
   "id": "e74ac8a5",
   "metadata": {},
   "outputs": [
    {
     "data": {
      "text/plain": [
       "False"
      ]
     },
     "execution_count": 7,
     "metadata": {},
     "output_type": "execute_result"
    }
   ],
   "source": [
    "RepeatedSubstringPattern(\"abacbabab\")"
   ]
  },
  {
   "cell_type": "markdown",
   "id": "344022f9",
   "metadata": {},
   "source": [
    "## Explaination: Working of Function"
   ]
  },
  {
   "cell_type": "markdown",
   "id": "c174e398",
   "metadata": {},
   "source": [
    "- 1. The input to the function is a string **s**.\n",
    "\n",
    "- 2. The function creates a new string string by concatenating **s** with itself and then removing the first and last characters. This creates a new string that contains **all possible substrings of s**.\n",
    "\n",
    "- 3. The function then checks if **s** appears in string using the **find** method. If **s** is a repeated substring pattern of string, then it will appear in string at least twice and therefore the find method will return a value that is not equal to -1.\n",
    "\n",
    "- 4. If **s** is a repeated substring pattern of string then the function returns **True**. Otherwise, it returns **False**\n",
    "\n",
    "Overall, this function works by checking if the input string **s** can be formed by repeating a substring of **s**. It does this by concatenating **s** with itself and then searching for **s** within the resulting string of all possible substrings. If **s** appears in the resulting string then it must be a repeated substring pattern and the function returns **True**, otherwise **False**."
   ]
  },
  {
   "cell_type": "code",
   "execution_count": 8,
   "id": "256c9b86",
   "metadata": {},
   "outputs": [],
   "source": [
    "# Step-1\n",
    "input_string = \"amamam\""
   ]
  },
  {
   "cell_type": "code",
   "execution_count": 9,
   "id": "1c6b6c21",
   "metadata": {},
   "outputs": [
    {
     "data": {
      "text/plain": [
       "'amamamamamam'"
      ]
     },
     "execution_count": 9,
     "metadata": {},
     "output_type": "execute_result"
    }
   ],
   "source": [
    "#Step 2.1\n",
    "new_string = (input_string + input_string)\n",
    "new_string"
   ]
  },
  {
   "cell_type": "code",
   "execution_count": 10,
   "id": "cbcd3952",
   "metadata": {},
   "outputs": [
    {
     "data": {
      "text/plain": [
       "'mamamamama'"
      ]
     },
     "execution_count": 10,
     "metadata": {},
     "output_type": "execute_result"
    }
   ],
   "source": [
    "# Step 2.2\n",
    "new_string = (input_string + input_string)[1:-1]\n",
    "new_string"
   ]
  },
  {
   "cell_type": "code",
   "execution_count": 11,
   "id": "4c7fbf2b",
   "metadata": {},
   "outputs": [
    {
     "data": {
      "text/plain": [
       "1"
      ]
     },
     "execution_count": 11,
     "metadata": {},
     "output_type": "execute_result"
    }
   ],
   "source": [
    "# Step 3\n",
    "new_string.find(input_string)"
   ]
  },
  {
   "cell_type": "code",
   "execution_count": 12,
   "id": "d5e6fa83",
   "metadata": {},
   "outputs": [
    {
     "data": {
      "text/plain": [
       "True"
      ]
     },
     "execution_count": 12,
     "metadata": {},
     "output_type": "execute_result"
    }
   ],
   "source": [
    "# Step 4\n",
    "new_string.find(input_string) != -1"
   ]
  }
 ],
 "metadata": {
  "kernelspec": {
   "display_name": "Python 3 (ipykernel)",
   "language": "python",
   "name": "python3"
  },
  "language_info": {
   "codemirror_mode": {
    "name": "ipython",
    "version": 3
   },
   "file_extension": ".py",
   "mimetype": "text/x-python",
   "name": "python",
   "nbconvert_exporter": "python",
   "pygments_lexer": "ipython3",
   "version": "3.9.13"
  }
 },
 "nbformat": 4,
 "nbformat_minor": 5
}
