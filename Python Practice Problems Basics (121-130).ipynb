{
 "cells": [
  {
   "cell_type": "markdown",
   "id": "7a547e13",
   "metadata": {},
   "source": [
    "# Python Practice Problems Basics (121-130)"
   ]
  },
  {
   "cell_type": "markdown",
   "id": "92bde28a",
   "metadata": {},
   "source": [
    "#### 121. Write a Python function to get a string made of the first three characters of a specified string. If the length of the string is less than 3, return the original string."
   ]
  },
  {
   "cell_type": "raw",
   "id": "2356b61d",
   "metadata": {},
   "source": [
    "Sample function and result :\n",
    "first_three('ipy') -> ipy\n",
    "first_three('python') -> pyt"
   ]
  },
  {
   "cell_type": "code",
   "execution_count": 5,
   "id": "d24620d3",
   "metadata": {},
   "outputs": [
    {
     "name": "stdout",
     "output_type": "stream",
     "text": [
      "Enter the string : Manish\n",
      "You have entered Manish\n",
      "Required  Output is Man\n"
     ]
    }
   ],
   "source": [
    "input_string = input(\"Enter the string : \")\n",
    "\n",
    "print(f\"You have entered {input_string}\")\n",
    "\n",
    "if len(input_string)>3:\n",
    "    print(f\"Required  Output is {input_string[0:3]}\")\n",
    "else:\n",
    "    print(f\"Required Output is {input_string}\")"
   ]
  },
  {
   "cell_type": "markdown",
   "id": "5c42da51",
   "metadata": {},
   "source": [
    "#### 122. Write a Python program to get the last part of a string before a specified character."
   ]
  },
  {
   "cell_type": "code",
   "execution_count": 6,
   "id": "d577c666",
   "metadata": {},
   "outputs": [
    {
     "name": "stdout",
     "output_type": "stream",
     "text": [
      "Enter the string : https://www.w3resource.com/python-exercises/string\n",
      "You have entered https://www.w3resource.com/python-exercises/string\n",
      "Enter the specified character : /\n",
      "You have entered /\n",
      "https:\n"
     ]
    }
   ],
   "source": [
    "# this is not the desired output\n",
    "input_string = input(\"Enter the string : \")\n",
    "\n",
    "print(f\"You have entered {input_string}\")\n",
    "\n",
    "separator = input(\"Enter the specified character : \")\n",
    "\n",
    "print(f\"You have entered {separator}\")\n",
    "\n",
    "print(input_string.split(separator)[0])"
   ]
  },
  {
   "cell_type": "code",
   "execution_count": 9,
   "id": "20dd329c",
   "metadata": {},
   "outputs": [
    {
     "name": "stdout",
     "output_type": "stream",
     "text": [
      "Enter the string : https://www.w3resource.com/python-exercises/string\n",
      "You have entered https://www.w3resource.com/python-exercises/string\n",
      "Enter the specified character : /\n",
      "You have entered /\n",
      "Required Output : https://www.w3resource.com/python-exercises\n"
     ]
    }
   ],
   "source": [
    "input_string = input(\"Enter the string : \")\n",
    "\n",
    "print(f\"You have entered {input_string}\")\n",
    "\n",
    "separator = input(\"Enter the specified character : \")\n",
    "\n",
    "print(f\"You have entered {separator}\")\n",
    "\n",
    "print(f\"Required Output : {input_string.rsplit(separator,1)[0]}\")"
   ]
  },
  {
   "cell_type": "markdown",
   "id": "36b380de",
   "metadata": {},
   "source": [
    "#### 123. Write a Python function to reverse a string if its length is a multiple of 4"
   ]
  },
  {
   "cell_type": "code",
   "execution_count": 13,
   "id": "4a7cce28",
   "metadata": {},
   "outputs": [
    {
     "name": "stdout",
     "output_type": "stream",
     "text": [
      "Enter the string : Indiaaaa\n",
      "You have entered Indiaaaa\n",
      "Required Output : aaaaidnI\n"
     ]
    }
   ],
   "source": [
    "input_string = input(\"Enter the string : \")\n",
    "\n",
    "print(f\"You have entered {input_string}\")\n",
    "\n",
    "if len(input_string)//4:\n",
    "    print(f\"Required Output : {input_string[::-1]}\")"
   ]
  },
  {
   "cell_type": "markdown",
   "id": "4c38457e",
   "metadata": {},
   "source": [
    "#### 124. Write a Python function to convert a given string to all uppercase if it contains at least 2 uppercase characters in the first 4 characters."
   ]
  },
  {
   "cell_type": "code",
   "execution_count": 17,
   "id": "7de172ed",
   "metadata": {},
   "outputs": [
    {
     "name": "stdout",
     "output_type": "stream",
     "text": [
      "Enter the string : PyThon\n",
      "You have entered PyThon\n",
      "Required Output : PYTHON\n"
     ]
    }
   ],
   "source": [
    "input_string = input(\"Enter the string : \")\n",
    "\n",
    "print(f\"You have entered {input_string}\")\n",
    "\n",
    "uppercase_count = 0\n",
    "\n",
    "for char in input_string[0:4]:\n",
    "    if char.upper() == char:\n",
    "        uppercase_count += 1\n",
    "        \n",
    "if uppercase_count>=2:\n",
    "    print(f\"Required Output : {input_string.upper()}\")\n",
    "else:\n",
    "    print(\"String does not contain atleast two uppercase characters in first four characters\")"
   ]
  },
  {
   "cell_type": "markdown",
   "id": "e8994558",
   "metadata": {},
   "source": [
    "#### 125. Write a Python program to check whether a string starts with specified characters"
   ]
  },
  {
   "cell_type": "code",
   "execution_count": 19,
   "id": "33fd7560",
   "metadata": {},
   "outputs": [
    {
     "name": "stdout",
     "output_type": "stream",
     "text": [
      "Enter the given string : development\n",
      "You have entered development\n",
      "Enter characters you want check whether a string starts with these characters : dev\n",
      "You want to check for dev\n",
      "Given string development starts with dev\n"
     ]
    }
   ],
   "source": [
    "given_string = input(\"Enter the given string : \")\n",
    "\n",
    "print(f\"You have entered {given_string}\")\n",
    "\n",
    "check_char = input(\"Enter characters you want check whether a string starts with these characters : \")\n",
    "\n",
    "print(f\"You want to check for {check_char}\")\n",
    "\n",
    "check_char_len = len(check_char)\n",
    "\n",
    "if given_string[:check_char_len] == check_char:\n",
    "    print(f\"Given string {given_string} starts with {check_char}\")\n",
    "else:\n",
    "    print(f\"Given string does not start with {check_char}\")"
   ]
  },
  {
   "cell_type": "markdown",
   "id": "10e1ad18",
   "metadata": {},
   "source": [
    "#### 126. Write a Python program to add prefix text to all of the lines in a string."
   ]
  },
  {
   "cell_type": "code",
   "execution_count": 21,
   "id": "0b133bb3",
   "metadata": {},
   "outputs": [
    {
     "name": "stdout",
     "output_type": "stream",
     "text": [
      "> \n",
      ">     Python is a widely used high-level, general-purpose, interpreted,\n",
      ">     dynamic programming language. Its design philosophy emphasizes\n",
      ">     code readability, and its syntax allows programmers to express\n",
      ">     concepts in fewer lines of code than possible in languages such\n",
      ">     as C++ or Java.\n",
      ">     \n"
     ]
    }
   ],
   "source": [
    "sample_text ='''\n",
    "    Python is a widely used high-level, general-purpose, interpreted,\n",
    "    dynamic programming language. Its design philosophy emphasizes\n",
    "    code readability, and its syntax allows programmers to express\n",
    "    concepts in fewer lines of code than possible in languages such\n",
    "    as C++ or Java.\n",
    "    '''\n",
    "\n",
    "prefix= '> '\n",
    "\n",
    "required_output = '\\n'.join(prefix + line for line in sample_text.split('\\n'))\n",
    "\n",
    "print(required_output)"
   ]
  },
  {
   "cell_type": "markdown",
   "id": "ffc20f06",
   "metadata": {},
   "source": [
    "#### 128. Write a Python program to print the following numbers up to 2 decimal places."
   ]
  },
  {
   "cell_type": "code",
   "execution_count": 28,
   "id": "41456adb",
   "metadata": {},
   "outputs": [
    {
     "name": "stdout",
     "output_type": "stream",
     "text": [
      "Enter the number : 123.45856\n",
      "Required Output : 123.46\n"
     ]
    }
   ],
   "source": [
    "input_number = float(input(\"Enter the number : \"))\n",
    "\n",
    "print(\"Required Output :\",\"{:.2f}\".format(input_number))"
   ]
  },
  {
   "cell_type": "markdown",
   "id": "ea2ae122",
   "metadata": {},
   "source": [
    "#### 129. Write a Python program to print the following numbers up to 2 decimal places with a sign."
   ]
  },
  {
   "cell_type": "code",
   "execution_count": 30,
   "id": "3e03f0cd",
   "metadata": {},
   "outputs": [
    {
     "name": "stdout",
     "output_type": "stream",
     "text": [
      "Enter the number : -123.5468532\n",
      "Required Output : -123.55\n"
     ]
    }
   ],
   "source": [
    "input_number = float(input(\"Enter the number : \"))\n",
    "\n",
    "print(\"Required Output :\",\"{:+.2f}\".format(input_number))"
   ]
  },
  {
   "cell_type": "markdown",
   "id": "d5cd2cdb",
   "metadata": {},
   "source": [
    "#### 130. Write a Python program to print the following positive and negative numbers with no decimal places."
   ]
  },
  {
   "cell_type": "code",
   "execution_count": 31,
   "id": "64fe61c6",
   "metadata": {},
   "outputs": [
    {
     "name": "stdout",
     "output_type": "stream",
     "text": [
      "Enter the number : 123.456946\n",
      "Required Output : +123\n"
     ]
    }
   ],
   "source": [
    "input_number = float(input(\"Enter the number : \"))\n",
    "\n",
    "print(\"Required Output :\",\"{:+.0f}\".format(input_number))"
   ]
  },
  {
   "cell_type": "code",
   "execution_count": 32,
   "id": "b59ef336",
   "metadata": {},
   "outputs": [
    {
     "name": "stdout",
     "output_type": "stream",
     "text": [
      "Enter the number : -1236.455622\n",
      "Required Output : -1236\n"
     ]
    }
   ],
   "source": [
    "input_number = float(input(\"Enter the number : \"))\n",
    "\n",
    "print(\"Required Output :\",int(input_number))"
   ]
  }
 ],
 "metadata": {
  "kernelspec": {
   "display_name": "Python 3 (ipykernel)",
   "language": "python",
   "name": "python3"
  },
  "language_info": {
   "codemirror_mode": {
    "name": "ipython",
    "version": 3
   },
   "file_extension": ".py",
   "mimetype": "text/x-python",
   "name": "python",
   "nbconvert_exporter": "python",
   "pygments_lexer": "ipython3",
   "version": "3.9.13"
  }
 },
 "nbformat": 4,
 "nbformat_minor": 5
}
