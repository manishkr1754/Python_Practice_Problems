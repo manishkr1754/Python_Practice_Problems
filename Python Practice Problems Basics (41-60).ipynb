{
 "cells": [
  {
   "cell_type": "markdown",
   "id": "050bd1de",
   "metadata": {},
   "source": [
    "# Python Practice Problems Basics (41-60)"
   ]
  },
  {
   "cell_type": "markdown",
   "id": "cf711428",
   "metadata": {},
   "source": [
    "#### 41. Write a Python program to parse a string to float or integer."
   ]
  },
  {
   "cell_type": "code",
   "execution_count": 1,
   "id": "4a91d272",
   "metadata": {},
   "outputs": [
    {
     "name": "stdout",
     "output_type": "stream",
     "text": [
      "Enter any number (Input taken as string) : 125.2564\n",
      "Converted into Float Number :  125.2564\n",
      "Converted into Integer :  125\n"
     ]
    }
   ],
   "source": [
    "input1 = input(\"Enter any number (Input taken as string) : \")\n",
    "\n",
    "print(\"Converted into Float Number : \", float(input1))\n",
    "\n",
    "print(\"Converted into Integer : \", int(float(input1)))\n"
   ]
  },
  {
   "cell_type": "markdown",
   "id": "f3707b49",
   "metadata": {},
   "source": [
    "#### 42. Write a Python program to print without a newline or space."
   ]
  },
  {
   "cell_type": "code",
   "execution_count": 2,
   "id": "db429732",
   "metadata": {},
   "outputs": [
    {
     "name": "stdout",
     "output_type": "stream",
     "text": [
      "AAAAAAAAAA"
     ]
    }
   ],
   "source": [
    "for i in range(0, 10):\n",
    "    print('A', end=\"\")"
   ]
  },
  {
   "cell_type": "markdown",
   "id": "b19136f5",
   "metadata": {},
   "source": [
    "#### 43. Write a Python program to sum the first n positive integers."
   ]
  },
  {
   "cell_type": "code",
   "execution_count": 33,
   "id": "45845f15",
   "metadata": {},
   "outputs": [
    {
     "name": "stdout",
     "output_type": "stream",
     "text": [
      "Enter the last number upto which you want sum : 10\n",
      "The sum of first 10 positive numbers is 55\n"
     ]
    }
   ],
   "source": [
    "n = int(input(\"Enter the last number upto which you want sum : \"))\n",
    "\n",
    "sum_n = int(n*(n+1)/2)\n",
    "\n",
    "print(f\"The sum of first {n} positive numbers is {sum_n}\")"
   ]
  },
  {
   "cell_type": "code",
   "execution_count": 37,
   "id": "e72a18ca",
   "metadata": {},
   "outputs": [
    {
     "name": "stdout",
     "output_type": "stream",
     "text": [
      "Enter the last number upto which you want sum : 10\n",
      "The sum of first 10 positive numbers is 55\n"
     ]
    }
   ],
   "source": [
    "n = int(input(\"Enter the last number upto which you want sum : \"))\n",
    "\n",
    "list_num = range(1,(n+1))\n",
    "\n",
    "sum_num = 0\n",
    "\n",
    "for num in list_num:\n",
    "    sum_num = sum_num + num\n",
    "    \n",
    "print(f\"The sum of first {n} positive numbers is {sum_num}\")"
   ]
  },
  {
   "cell_type": "markdown",
   "id": "0a34e84c",
   "metadata": {},
   "source": [
    "#### 44. Write a Python program to convert height (in feet and inches) to centimeters"
   ]
  },
  {
   "cell_type": "code",
   "execution_count": 5,
   "id": "dabf7726",
   "metadata": {},
   "outputs": [
    {
     "name": "stdout",
     "output_type": "stream",
     "text": [
      "Enter your height : \n",
      "Feet : 6\n",
      "Inches : 3\n",
      "Your height 6 feet and 3 inches is equal to 190 cm\n"
     ]
    }
   ],
   "source": [
    "print(\"Enter your height : \")\n",
    "\n",
    "height_ft = int(input(\"Feet : \"))\n",
    "\n",
    "height_inch = int(input(\"Inches : \"))\n",
    "\n",
    "net_height_inches = height_ft*12 + height_inch\n",
    "\n",
    "height_cms = int(net_height_inches*2.54)\n",
    "\n",
    "print(f\"Your height {height_ft} feet and {height_inch} inches is equal to {height_cms} cm\")"
   ]
  },
  {
   "cell_type": "code",
   "execution_count": 10,
   "id": "cb60790e",
   "metadata": {},
   "outputs": [
    {
     "name": "stdout",
     "output_type": "stream",
     "text": [
      "Enter the height in feet and inches separated by (-) : 5-5\n",
      "Your height 5 feet and 5 inches is equal to 165 cm\n"
     ]
    }
   ],
   "source": [
    "height = input(\"Enter the height in feet and inches separated by (-) : \")\n",
    "\n",
    "height = height.split(\"-\")\n",
    "\n",
    "height_ft =int(height[0])\n",
    "\n",
    "height_inch = int(height[1])\n",
    "\n",
    "net_height_inches = height_ft*12 + height_inch\n",
    "\n",
    "height_cms = int(net_height_inches*2.54)\n",
    "\n",
    "print(f\"Your height {height_ft} feet and {height_inch} inches is equal to {height_cms} cm\")"
   ]
  },
  {
   "cell_type": "markdown",
   "id": "3c14694c",
   "metadata": {},
   "source": [
    "#### 45. Write a Python program to calculate the hypotenuse of a right angled triangle."
   ]
  },
  {
   "cell_type": "code",
   "execution_count": 12,
   "id": "627a7250",
   "metadata": {},
   "outputs": [
    {
     "name": "stdout",
     "output_type": "stream",
     "text": [
      "Enter the height of the triangle : 4\n",
      "Enter the base of the trinagle : 3\n",
      "The length of hypotenuse of a right angled triangle with height 4.0 units and base 3.0 units is 5.0 units \n"
     ]
    }
   ],
   "source": [
    "height = float(input(\"Enter the height of the triangle : \"))\n",
    "\n",
    "base =  float(input(\"Enter the base of the trinagle : \"))\n",
    "\n",
    "hypotenuse = ((height**2)+(base**2))**(1/2)\n",
    "\n",
    "print(f\"The length of hypotenuse of a right angled triangle with height {height} units and base {base} units is {hypotenuse} units \")"
   ]
  },
  {
   "cell_type": "markdown",
   "id": "c6b34208",
   "metadata": {},
   "source": [
    "#### 46. Write a Python program to convert the distance (in feet) to inches, yards, and miles. "
   ]
  },
  {
   "cell_type": "code",
   "execution_count": 16,
   "id": "da714eb4",
   "metadata": {},
   "outputs": [
    {
     "name": "stdout",
     "output_type": "stream",
     "text": [
      "Enter the distnace in feets : 100\n",
      "The distance 100.0 feets is equal to 1200.0 inches \n",
      "The distance 100.0 feets is equal to 33.33 yards \n",
      "The distance 100.0 feets is equal to 0.0189 miles \n"
     ]
    }
   ],
   "source": [
    "distance = float(input(\"Enter the distnace in feets : \"))\n",
    "\n",
    "distance_inch = distance*12\n",
    "\n",
    "distance_yards = round((distance/3),2)\n",
    "\n",
    "distance_miles = round((distance/5280),4)\n",
    "\n",
    "print(f\"The distance {distance} feets is equal to {distance_inch} inches \")\n",
    "\n",
    "print(f\"The distance {distance} feets is equal to {distance_yards} yards \")\n",
    "\n",
    "print(f\"The distance {distance} feets is equal to {distance_miles} miles \")"
   ]
  },
  {
   "cell_type": "markdown",
   "id": "6da248ea",
   "metadata": {},
   "source": [
    "#### 47. Write a Python program to convert all units of time into seconds."
   ]
  },
  {
   "cell_type": "code",
   "execution_count": 17,
   "id": "269b69e3",
   "metadata": {},
   "outputs": [
    {
     "name": "stdout",
     "output_type": "stream",
     "text": [
      "Enter the number of days : 2\n",
      "Enter the  number of hours : 5\n",
      "Enter the number of minutes : 40\n",
      "Enter the  number of seconds : 50\n",
      "2 Days 5 Hours 40 Minutes and 50 Seconds are equal to 193250 seconds\n"
     ]
    }
   ],
   "source": [
    "days =int(input(\"Enter the number of days : \"))\n",
    "\n",
    "hours = int(input(\"Enter the  number of hours : \"))\n",
    "\n",
    "minutes = int(input(\"Enter the number of minutes : \"))\n",
    "\n",
    "seconds = int(input(\"Enter the  number of seconds : \"))\n",
    "\n",
    "days_second = days*24*3600\n",
    "\n",
    "hours_second = hours*3600\n",
    "\n",
    "minutes_second = minutes*60\n",
    "\n",
    "total_time_seconds =  days_second + hours_second + minutes_second + seconds\n",
    "\n",
    "print(f\"{days} Days {hours} Hours {minutes} Minutes and {seconds} Seconds are equal to {total_time_seconds} seconds\")"
   ]
  },
  {
   "cell_type": "markdown",
   "id": "c16deea6",
   "metadata": {},
   "source": [
    "####  48. Write a Python program that converts seconds into days, hours, minutes, and seconds."
   ]
  },
  {
   "cell_type": "code",
   "execution_count": 30,
   "id": "eb7336be",
   "metadata": {},
   "outputs": [
    {
     "name": "stdout",
     "output_type": "stream",
     "text": [
      "Enter the number of seconds : 500000\n",
      "500000 seconds are equal to 5 Days 18 Hours 53 Minutes and  20 seconds\n"
     ]
    }
   ],
   "source": [
    "seconds = int(input(\"Enter the number of seconds : \"))\n",
    "\n",
    "days = seconds//(24*3600)\n",
    "\n",
    "seconds_remaining = seconds%(24*3600)\n",
    "\n",
    "hours =  seconds_remaining//(3600)\n",
    "\n",
    "seconds_remaining = seconds_remaining%(3600)\n",
    "\n",
    "minutes = seconds_remaining//60\n",
    "\n",
    "seconds_remaining = seconds_remaining%60\n",
    "\n",
    "seconds_remaining_at_last = seconds_remaining\n",
    "\n",
    "\n",
    "print(f\"{seconds} seconds are equal to {days} Days {hours} Hours {minutes} Minutes and  {seconds_remaining_at_last} seconds\")"
   ]
  },
  {
   "cell_type": "markdown",
   "id": "860a9b1b",
   "metadata": {},
   "source": [
    "#### 49. Write a Python program to calculate the body mass index."
   ]
  },
  {
   "cell_type": "code",
   "execution_count": 35,
   "id": "23e8c1a9",
   "metadata": {},
   "outputs": [
    {
     "name": "stdout",
     "output_type": "stream",
     "text": [
      "Enter the weight in Kgs : 70\n",
      "Enter the height in cms : 170\n",
      "Your Body Mass Index (BMI) is 24.22 : Normal Weight\n"
     ]
    }
   ],
   "source": [
    "weight = float(input(\"Enter the weight in Kgs : \"))\n",
    "\n",
    "height = float(input(\"Enter the height in cms : \"))\n",
    "\n",
    "height_meter = height/100\n",
    "\n",
    "bmi = round((weight/(height_meter**2)),2)\n",
    "\n",
    "if bmi<18.5:\n",
    "    print(f\"Your Body Mass Index (BMI) is {bmi} : Below Normal Weight\")\n",
    "elif 18.5<bmi<25:\n",
    "    print(f\"Your Body Mass Index (BMI) is {bmi} : Normal Weight\")\n",
    "elif 25<bmi<30:\n",
    "    print(f\"Your Body Mass Index (BMI) is {bmi} : Over Weight\")\n",
    "else:\n",
    "    print(f\"Your Body Mass Index (BMI) is {bmi} : Obesity\")\n"
   ]
  },
  {
   "cell_type": "markdown",
   "id": "5f6eb814",
   "metadata": {},
   "source": [
    "#### 50. Write a Python program to calculate sum of digits of a number."
   ]
  },
  {
   "cell_type": "code",
   "execution_count": 42,
   "id": "642e7b67",
   "metadata": {},
   "outputs": [
    {
     "name": "stdout",
     "output_type": "stream",
     "text": [
      "Enter the any digit number : 15642\n",
      "The sum of digits of number 15642 is 18\n"
     ]
    }
   ],
   "source": [
    "input_number = input(\"Enter the any digit number : \")\n",
    "\n",
    "sum_digits = 0\n",
    "\n",
    "for digit in input_number:\n",
    "    sum_digits += int(digit)\n",
    "    \n",
    "print(f\"The sum of digits of number {input_number} is {sum_digits}\")"
   ]
  },
  {
   "cell_type": "code",
   "execution_count": 43,
   "id": "e2582b01",
   "metadata": {},
   "outputs": [
    {
     "name": "stdout",
     "output_type": "stream",
     "text": [
      "Enter the any digit number : 14525\n",
      "The sum of digits of number 14525 is 17\n"
     ]
    }
   ],
   "source": [
    "input_number = int(input(\"Enter the any digit number : \"))\n",
    "\n",
    "sum_digits = 0\n",
    "\n",
    "for digit in str(input_number):\n",
    "    sum_digits += int(digit)\n",
    "    \n",
    "print(f\"The sum of digits of number {input_number} is {sum_digits}\")"
   ]
  },
  {
   "cell_type": "markdown",
   "id": "c99aed53",
   "metadata": {},
   "source": [
    "#### 51. Write a Python program to sort three integers without using conditional statements and loops."
   ]
  },
  {
   "cell_type": "code",
   "execution_count": 2,
   "id": "2af30a1a",
   "metadata": {},
   "outputs": [
    {
     "name": "stdout",
     "output_type": "stream",
     "text": [
      "Enter the first number : 1\n",
      "Enter the second number : 9\n",
      "Enter the third number : 2\n",
      "Numbers in decreasing order :  9 2 1\n",
      "Numbers in increasing order :  1 2 9\n"
     ]
    }
   ],
   "source": [
    "input_number1 = int(input(\"Enter the first number : \"))\n",
    "input_number2 = int(input(\"Enter the second number : \"))\n",
    "input_number3 = int(input(\"Enter the third number : \"))\n",
    "\n",
    "max_number = max(input_number1,input_number2,input_number3)\n",
    "\n",
    "min_number = min(input_number1,input_number2,input_number3)\n",
    "\n",
    "middle_number = (input_number1+input_number2+input_number3)-max_number-min_number\n",
    "\n",
    "print(\"Numbers in decreasing order : \", max_number,middle_number,min_number)\n",
    "\n",
    "print(\"Numbers in increasing order : \", min_number,middle_number,max_number)"
   ]
  },
  {
   "cell_type": "code",
   "execution_count": 11,
   "id": "65d17d24",
   "metadata": {},
   "outputs": [
    {
     "name": "stdout",
     "output_type": "stream",
     "text": [
      "Enter the first number : 235\n",
      "Enter the second number : 5\n",
      "Enter the third number : 61\n",
      "Numbers input by you  [235, 5, 61]\n",
      "Numbers in sorted order :  [5, 61, 235]\n"
     ]
    }
   ],
   "source": [
    "input_number1 = int(input(\"Enter the first number : \"))\n",
    "input_number2 = int(input(\"Enter the second number : \"))\n",
    "input_number3 = int(input(\"Enter the third number : \"))\n",
    "\n",
    "list_number = [input_number1,input_number2,input_number3]\n",
    "\n",
    "print(\"Numbers input by you \", list_number)\n",
    "\n",
    "print(\"Numbers in sorted order : \", sorted(list_number))\n"
   ]
  },
  {
   "cell_type": "markdown",
   "id": "4b877d82",
   "metadata": {},
   "source": [
    " #### 52. Write a Python program to calculate the midpoints of a line."
   ]
  },
  {
   "cell_type": "code",
   "execution_count": 16,
   "id": "741a4a28",
   "metadata": {},
   "outputs": [
    {
     "name": "stdout",
     "output_type": "stream",
     "text": [
      "\n",
      "Calculate the midpoint of a line :\n",
      "First Point X-coordinate : 2\n",
      "First Point Y-coordinate :5\n",
      "Second Point X-coordinate : 3\n",
      "Second Point Y-coordinate : 6\n",
      "The midpoint of line with points (2.0,5.0) and (3.0,6.0) is :  (2.5, 5.5)\n"
     ]
    }
   ],
   "source": [
    "print('\\nCalculate the midpoint of a line :')\n",
    "\n",
    "x1 = float(input('First Point X-coordinate : '))\n",
    "y1 = float(input('First Point Y-coordinate :'))\n",
    "x2 = float(input('Second Point X-coordinate : '))\n",
    "y2 = float(input('Second Point Y-coordinate : '))\n",
    "\n",
    "x_midpoint = (x1+x2)/2\n",
    "\n",
    "y_midpoint = (y1+y2)/2\n",
    "\n",
    "print(f\"The midpoint of line with points ({x1},{y1}) and ({x2},{y2}) is : \", (x_midpoint,y_midpoint))"
   ]
  },
  {
   "cell_type": "markdown",
   "id": "36607478",
   "metadata": {},
   "source": [
    "#### 53. Write a Python program to hash a word."
   ]
  },
  {
   "cell_type": "code",
   "execution_count": 21,
   "id": "61a2e514",
   "metadata": {},
   "outputs": [
    {
     "name": "stdout",
     "output_type": "stream",
     "text": [
      "Original integer value: 110\n",
      "Hash value of the said integer value: 110\n",
      "Original float value: 23.99\n",
      "Hash value of the said float value: 2282784579121553431\n",
      "Original text: Python Exercises\n",
      "Hash value of the said text: -5593089831662062395\n"
     ]
    }
   ],
   "source": [
    "int_num = 110\n",
    "flt_num = 23.99\n",
    "text_val = 'Python Exercises'\n",
    "print(\"Original integer value:\",int_num)\n",
    "print (\"Hash value of the said integer value: \" + str(hash(int_num)))\n",
    "print(\"Original float value:\",flt_num)\n",
    "print (\"Hash value of the said float value: \" + str(hash(flt_num)))\n",
    "print(\"Original text:\",text_val)\n",
    "print (\"Hash value of the said text: \" + str(hash(text_val)))\n"
   ]
  },
  {
   "cell_type": "markdown",
   "id": "2b386ba0",
   "metadata": {},
   "source": [
    "#### 54. Write a Python program to get the size of an object in bytes."
   ]
  },
  {
   "cell_type": "code",
   "execution_count": 24,
   "id": "451d22b6",
   "metadata": {},
   "outputs": [
    {
     "name": "stdout",
     "output_type": "stream",
     "text": [
      "Size of  one = 52 bytes\n",
      "Size of  four = 53 bytes\n",
      "Size of  three = 54 bytes\n",
      "Size of 0 = 24 bytes\n",
      "Size of 112 =28 bytes\n",
      "Size of [1, 2, 3, 'Red', 'Black'] = 120  bytes\n",
      "Size of ('Red', [8, 4, 6], (1, 2, 3)) = 64  bytes\n",
      "Size of {'orange', 'pear', 'apple'} = 216  bytes\n",
      "Size of {'Name': 'David', 'Age': 6, 'Class': 'First'} = 216  bytes\n"
     ]
    }
   ],
   "source": [
    "import sys\n",
    "str1 = \"one\"\n",
    "str2 = \"four\"\n",
    "str3 = \"three\"\n",
    "x = 0\n",
    "y = 112\n",
    "z = 122.56\n",
    "print(\"Size of \",str1,\"=\",str(sys.getsizeof(str1))+ \" bytes\")\n",
    "print(\"Size of \",str2,\"=\",str(sys.getsizeof(str2))+ \" bytes\")\n",
    "print(\"Size of \",str3,\"=\",str(sys.getsizeof(str3))+ \" bytes\")\n",
    "print(\"Size of\",x,\"=\",str(sys.getsizeof(x))+ \" bytes\")\n",
    "print(\"Size of\" ,y,\"=\"+str(sys.getsizeof(y))+ \" bytes\")\n",
    "L = [1, 2, 3, 'Red', 'Black']\n",
    "print(\"Size of\",L,\"=\",sys.getsizeof(L),\" bytes\")\n",
    "T = (\"Red\", [8, 4, 6], (1, 2, 3))\n",
    "print(\"Size of\",T,\"=\",sys.getsizeof(T),\" bytes\")\n",
    "S = {'apple', 'orange', 'apple', 'pear'}\n",
    "print(\"Size of\",S,\"=\",sys.getsizeof(S),\" bytes\")\n",
    "D = {'Name': 'David', 'Age': 6, 'Class': 'First'}\n",
    "print(\"Size of\",D,\"=\",sys.getsizeof(S),\" bytes\")\n"
   ]
  },
  {
   "cell_type": "markdown",
   "id": "e40557d2",
   "metadata": {},
   "source": [
    "#### 55. Write a Python program to concatenate N strings."
   ]
  },
  {
   "cell_type": "code",
   "execution_count": 42,
   "id": "771cea0a",
   "metadata": {},
   "outputs": [
    {
     "name": "stdout",
     "output_type": "stream",
     "text": [
      "Enter the strings in the list separated by (,) : India,is,great\n",
      "You have entered following strings :  ['India', 'is', 'great']\n",
      "Your concatenated string using (-) India-is-great\n",
      "Your concatenated string using (*) India*is*great\n",
      "Your concatenated string using ( ) India is great\n"
     ]
    }
   ],
   "source": [
    "input_string = input(\"Enter the strings in the list separated by (,) : \").split(\",\")\n",
    "\n",
    "print(\"You have entered following strings : \", input_string)\n",
    "\n",
    "concat_string = '-'.join(input_string)\n",
    "\n",
    "print(\"Your concatenated string using (-)\", concat_string)\n",
    "\n",
    "concat_string = '*'.join(input_string)\n",
    "\n",
    "print(\"Your concatenated string using (*)\", concat_string)\n",
    "\n",
    "concat_string = ' '.join(input_string)\n",
    "\n",
    "print(\"Your concatenated string using ( )\", concat_string)\n"
   ]
  },
  {
   "cell_type": "code",
   "execution_count": 47,
   "id": "ffcb0bbe",
   "metadata": {},
   "outputs": [
    {
     "name": "stdout",
     "output_type": "stream",
     "text": [
      "Enter the number of  strings in the list : 3\n",
      "Enter each string one by one..... \n",
      "India\n",
      "is\n",
      "great\n",
      "You have entered following strings :  ['India', 'is', 'great']\n",
      "Here is your concatenated string :  India-is-great\n"
     ]
    }
   ],
   "source": [
    "input_list = []\n",
    "\n",
    "number_of_strings = int(input(\"Enter the number of  strings in the list : \"))\n",
    "\n",
    "print(\"Enter each string one by one..... \")\n",
    "\n",
    "for string in range(0,number_of_strings):\n",
    "    input_string = str(input())\n",
    "    input_list.append(input_string)\n",
    "    \n",
    "print(\"You have entered following strings : \", input_list)\n",
    "    \n",
    "concat_string = '-'.join(input_list)\n",
    "\n",
    "print(\"Here is your concatenated string : \", concat_string)"
   ]
  },
  {
   "cell_type": "markdown",
   "id": "2391fcde",
   "metadata": {},
   "source": [
    "#### 56. Write a Python program to calculate the sum of all items of a container (tuple, list, set, dictionary)."
   ]
  },
  {
   "cell_type": "code",
   "execution_count": 50,
   "id": "a755f745",
   "metadata": {},
   "outputs": [
    {
     "name": "stdout",
     "output_type": "stream",
     "text": [
      "Type of container is :  <class 'list'>\n",
      "Items in the said container are:  [10, 20, 30, 40, 50]\n",
      "Sum of all items in the said container 150\n"
     ]
    }
   ],
   "source": [
    "input_items = [10,20,30,40,50]\n",
    "\n",
    "print(\"Type of container is : \", type(input_items))\n",
    "\n",
    "print(\"Items in the said container are: \", input_items)\n",
    "\n",
    "print(\"Sum of all items in the said container\", sum(input_items))"
   ]
  },
  {
   "cell_type": "code",
   "execution_count": 51,
   "id": "cf9b55ce",
   "metadata": {},
   "outputs": [
    {
     "name": "stdout",
     "output_type": "stream",
     "text": [
      "Type of container is :  <class 'tuple'>\n",
      "Items in the said container are:  (10, 20, 30, 40, 50)\n",
      "Sum of all items in the said container 150\n"
     ]
    }
   ],
   "source": [
    "input_items = (10,20,30,40,50)\n",
    "\n",
    "print(\"Type of container is : \", type(input_items))\n",
    "\n",
    "print(\"Items in the said container are: \", input_items)\n",
    "\n",
    "print(\"Sum of all items in the said container\", sum(input_items))"
   ]
  },
  {
   "cell_type": "code",
   "execution_count": 52,
   "id": "bb606df7",
   "metadata": {},
   "outputs": [
    {
     "name": "stdout",
     "output_type": "stream",
     "text": [
      "Type of container is :  <class 'set'>\n",
      "Items in the said container are:  {50, 20, 40, 10, 30}\n",
      "Sum of all items in the said container 150\n"
     ]
    }
   ],
   "source": [
    "input_items = {10,20,30,40,50}\n",
    "\n",
    "print(\"Type of container is : \", type(input_items))\n",
    "\n",
    "print(\"Items in the said container are: \", input_items)\n",
    "\n",
    "print(\"Sum of all items in the said container\", sum(input_items))"
   ]
  },
  {
   "cell_type": "code",
   "execution_count": 68,
   "id": "e3bca302",
   "metadata": {},
   "outputs": [
    {
     "name": "stdout",
     "output_type": "stream",
     "text": [
      "Type of container is :  <class 'dict'>\n",
      "Items in the said container are:  {'a': 100, 'b': 200, 'c': 300, 'd': 120}\n",
      "In Dictionary, key-value pair exists \n",
      "Sum of all items in the said container 720\n"
     ]
    }
   ],
   "source": [
    "input_items = {'a': 100, 'b':200, 'c':300, 'd':120}\n",
    "\n",
    "print(\"Type of container is : \", type(input_items))\n",
    "\n",
    "print(\"Items in the said container are: \", input_items)\n",
    "\n",
    "print(\"In Dictionary, key-value pair exists \")\n",
    "\n",
    "sum_items = sum(input_items.values())\n",
    "\n",
    "print(\"Sum of all items in the said container\", sum_items)"
   ]
  },
  {
   "cell_type": "code",
   "execution_count": 56,
   "id": "5bac0179",
   "metadata": {},
   "outputs": [
    {
     "name": "stdout",
     "output_type": "stream",
     "text": [
      "Type of container is :  <class 'dict'>\n",
      "Items in the said container are:  {'a': 100, 'b': 200, 'c': 300, 'd': 120}\n",
      "In Dictionary, key-value pair exists \n",
      "Sum of all items in the said container 720\n"
     ]
    }
   ],
   "source": [
    "input_items = {'a': 100, 'b':200, 'c':300, 'd':120}\n",
    "\n",
    "print(\"Type of container is : \", type(input_items))\n",
    "\n",
    "print(\"Items in the said container are: \", input_items)\n",
    "\n",
    "print(\"In Dictionary, key-value pair exists \")\n",
    "\n",
    "sum_items = 0\n",
    "\n",
    "for index in input_items:\n",
    "    sum_items = sum_items +input_items[index]\n",
    "    \n",
    "    sum_items\n",
    "\n",
    "print(\"Sum of all items in the said container\", sum_items)"
   ]
  },
  {
   "cell_type": "markdown",
   "id": "2f852bb6",
   "metadata": {},
   "source": [
    "#### 57. Write a Python program to test whether all numbers in a list are greater than a certain number."
   ]
  },
  {
   "cell_type": "code",
   "execution_count": 73,
   "id": "70af5ee6",
   "metadata": {},
   "outputs": [
    {
     "name": "stdout",
     "output_type": "stream",
     "text": [
      "Original list numbers :  [10, 20, 30, 40, 50, 60, 70, 80, 90, 100]\n",
      "Enter the number you want to check : 20\n",
      "Check whether all numbers of the said list greater than  20\n",
      "False\n"
     ]
    }
   ],
   "source": [
    "list_given = [10, 20, 30, 40, 50, 60, 70, 80, 90, 100]\n",
    "\n",
    "print(\"Original list numbers : \", list_given)\n",
    "\n",
    "test_number = int(input(\"Enter the number you want to check : \"))\n",
    "\n",
    "print(\"Check whether all numbers of the said list greater than \" , test_number)\n",
    "\n",
    "print(all(num > test_number for num in list_given))"
   ]
  },
  {
   "cell_type": "markdown",
   "id": "76b4cd7c",
   "metadata": {},
   "source": [
    "#### 58. Write a Python program to count the number of occurrences of a specific character in a string."
   ]
  },
  {
   "cell_type": "code",
   "execution_count": 9,
   "id": "3ac1824f",
   "metadata": {},
   "outputs": [
    {
     "name": "stdout",
     "output_type": "stream",
     "text": [
      "Enter the string : India is great in the entire world\n",
      "You have entered :  India is great in the entire world\n",
      "Enter the character from the string for which you want to count the number of occurences : i\n",
      "You have entered : i\n",
      "Total occurences of i in the input string : 4\n"
     ]
    }
   ],
   "source": [
    "input_string = input(\"Enter the string : \")\n",
    "\n",
    "print(\"You have entered : \", input_string)\n",
    "\n",
    "\n",
    "count_char = input(\"Enter the character from the string for which you want to count the number of occurences : \")\n",
    "\n",
    "print(\"You have entered :\",count_char)\n",
    "\n",
    "\n",
    "print(f\"Total occurences of {count_char} in the input string :\", input_string.count(count_char))"
   ]
  },
  {
   "cell_type": "code",
   "execution_count": 8,
   "id": "5c43b7f3",
   "metadata": {},
   "outputs": [
    {
     "name": "stdout",
     "output_type": "stream",
     "text": [
      "Enter the string : India is great in the entire world\n",
      "You have entered :  India is great in the entire world\n",
      "Enter the character from the string for which you want to count the number of occurences : I\n",
      "Total occurences of I in the input string : 1\n"
     ]
    }
   ],
   "source": [
    "input_string = input(\"Enter the string : \")\n",
    "\n",
    "print(\"You have entered : \", input_string)\n",
    "\n",
    "\n",
    "count_char = input(\"Enter the character from the string for which you want to count the number of occurences : \")\n",
    "\n",
    "print(\"You have entered :\",count_char)\n",
    "\n",
    "print(f\"Total occurences of {count_char} in the input string :\", input_string.count(count_char))"
   ]
  },
  {
   "cell_type": "code",
   "execution_count": 7,
   "id": "1d676653",
   "metadata": {},
   "outputs": [
    {
     "name": "stdout",
     "output_type": "stream",
     "text": [
      "Enter the string : India is great in the entire world\n",
      "You have entered : India is great in the entire world\n",
      "Enter the character from the string for which you want to count the number of occurences : i\n",
      "You have entered : i\n",
      "Total occurences of i irrespective of upper or lower case is : 5\n"
     ]
    }
   ],
   "source": [
    "input_string = input(\"Enter the string : \")\n",
    "\n",
    "print(\"You have entered :\",input_string)\n",
    "\n",
    "input_string = input_string.lower()\n",
    "\n",
    "count_char = input(\"Enter the character from the string for which you want to count the number of occurences : \")\n",
    "\n",
    "print(\"You have entered :\",count_char)\n",
    "\n",
    "count_char = count_char.lower()\n",
    "\n",
    "print(f\"Total occurences of {count_char} irrespective of upper or lower case is :\", input_string.count(count_char))"
   ]
  },
  {
   "cell_type": "code",
   "execution_count": 10,
   "id": "a6dfd042",
   "metadata": {},
   "outputs": [
    {
     "name": "stdout",
     "output_type": "stream",
     "text": [
      "Enter the string : India is great in the entire world\n",
      "You have entered : India is great in the entire world\n",
      "Enter the character from the string for which you want to count the number of occurences : I\n",
      "You have entered : I\n",
      "Total occurences of i irrespective of upper or lower case is : 5\n"
     ]
    }
   ],
   "source": [
    "input_string = input(\"Enter the string : \")\n",
    "\n",
    "print(\"You have entered :\",input_string)\n",
    "\n",
    "input_string = input_string.lower()\n",
    "\n",
    "count_char = input(\"Enter the character from the string for which you want to count the number of occurences : \")\n",
    "\n",
    "print(\"You have entered :\",count_char)\n",
    "\n",
    "count_char = count_char.lower()\n",
    "\n",
    "print(f\"Total occurences of {count_char} irrespective of upper or lower case is :\", input_string.count(count_char))"
   ]
  },
  {
   "cell_type": "code",
   "execution_count": 15,
   "id": "05918b61",
   "metadata": {},
   "outputs": [
    {
     "name": "stdout",
     "output_type": "stream",
     "text": [
      "Enter the string : India is great in the entire world\n",
      "You have entered : India is great in the entire world\n",
      "Enter the character from the string for which you want to count the number of occurences : i\n",
      "You have entered : i\n",
      "Total occurences of i irrespective of upper or lower case is : 5\n"
     ]
    }
   ],
   "source": [
    "input_string = input(\"Enter the string : \")\n",
    "\n",
    "print(\"You have entered :\",input_string)\n",
    "\n",
    "input_string = input_string.lower()\n",
    "\n",
    "count_char = input(\"Enter the character from the string for which you want to count the number of occurences : \")\n",
    "\n",
    "print(\"You have entered :\",count_char)\n",
    "\n",
    "count_char = count_char.lower()\n",
    "\n",
    "count = 0\n",
    "\n",
    "for char in input_string:\n",
    "    if char == count_char:\n",
    "        count = count + 1\n",
    "\n",
    "print(f\"Total occurences of {count_char} irrespective of upper or lower case is :\", count)"
   ]
  },
  {
   "cell_type": "code",
   "execution_count": 23,
   "id": "ce0b0390",
   "metadata": {},
   "outputs": [
    {
     "name": "stdout",
     "output_type": "stream",
     "text": [
      "Enter the string : India is great in the entire world\n",
      "You have entered : India is great in the entire world\n",
      "Enter the character from the string for which you want to count the number of occurences : i\n",
      "You have entered : i\n",
      "Total occurences of i irrespective of upper or lower case is : 5\n"
     ]
    }
   ],
   "source": [
    "from collections import Counter\n",
    "\n",
    "input_string = input(\"Enter the string : \")\n",
    "\n",
    "print(\"You have entered :\",input_string)\n",
    "\n",
    "input_string = input_string.lower()\n",
    "\n",
    "count_char = input(\"Enter the character from the string for which you want to count the number of occurences : \")\n",
    "\n",
    "print(\"You have entered :\",count_char)\n",
    "\n",
    "count_char = count_char.lower()\n",
    "\n",
    "count = Counter(input_string)\n",
    "\n",
    "print(f\"Total occurences of {count_char} irrespective of upper or lower case is :\",count[count_char])"
   ]
  },
  {
   "cell_type": "code",
   "execution_count": 24,
   "id": "73a164e7",
   "metadata": {},
   "outputs": [
    {
     "name": "stdout",
     "output_type": "stream",
     "text": [
      "Enter the string : India is great in the entire world\n",
      "You have entered : India is great in the entire world\n",
      "Enter the character from the string for which you want to count the number of occurences : i\n",
      "You have entered : i\n",
      "Total occurences of i irrespective of upper or lower case is : 5\n"
     ]
    }
   ],
   "source": [
    "input_string = input(\"Enter the string : \")\n",
    "\n",
    "print(\"You have entered :\",input_string)\n",
    "\n",
    "input_string = input_string.lower()\n",
    "\n",
    "count_char = input(\"Enter the character from the string for which you want to count the number of occurences : \")\n",
    "\n",
    "print(\"You have entered :\",count_char)\n",
    "\n",
    "count_char = count_char.lower()\n",
    "\n",
    "count = sum(map(lambda x : 1 if count_char in x else 0, input_string))\n",
    "\n",
    "print(f\"Total occurences of {count_char} irrespective of upper or lower case is :\",count)"
   ]
  },
  {
   "cell_type": "code",
   "execution_count": 25,
   "id": "f38a2ac8",
   "metadata": {},
   "outputs": [
    {
     "name": "stdout",
     "output_type": "stream",
     "text": [
      "Enter the string : India is great in the entire world\n",
      "You have entered : India is great in the entire world\n",
      "Enter the character from the string for which you want to count the number of occurences : i\n",
      "You have entered : i\n",
      "Total occurences of i irrespective of upper or lower case is : 5\n"
     ]
    }
   ],
   "source": [
    "import re\n",
    "\n",
    "input_string = input(\"Enter the string : \")\n",
    "\n",
    "print(\"You have entered :\",input_string)\n",
    "\n",
    "input_string = input_string.lower()\n",
    "\n",
    "count_char = input(\"Enter the character from the string for which you want to count the number of occurences : \")\n",
    "\n",
    "print(\"You have entered :\",count_char)\n",
    "\n",
    "count_char = count_char.lower()\n",
    "\n",
    "count = len(re.findall(count_char, input_string))\n",
    "\n",
    "print(f\"Total occurences of {count_char} irrespective of upper or lower case is :\",count)"
   ]
  },
  {
   "cell_type": "code",
   "execution_count": 29,
   "id": "c8689cbc",
   "metadata": {},
   "outputs": [
    {
     "name": "stdout",
     "output_type": "stream",
     "text": [
      "Enter the string : India  is great in the entire world\n",
      "You have entered : India  is great in the entire world\n",
      "Occurences of all characters in the input string : \n",
      " Counter({' ': 7, 'i': 5, 'e': 4, 'n': 3, 'r': 3, 't': 3, 'd': 2, 'a': 2, 's': 1, 'g': 1, 'h': 1, 'w': 1, 'o': 1, 'l': 1})\n"
     ]
    }
   ],
   "source": [
    "# checking occurences of all characters in a given string\n",
    "\n",
    "from collections import Counter\n",
    "\n",
    "input_string = input(\"Enter the string : \")\n",
    "\n",
    "print(\"You have entered :\",input_string)\n",
    "\n",
    "input_string = input_string.lower()\n",
    "\n",
    "count_all_char = Counter(input_string)\n",
    "\n",
    "\n",
    "print(\"Occurences of all characters in the input string : \\n\", count_all_char)"
   ]
  },
  {
   "cell_type": "markdown",
   "id": "047456ad",
   "metadata": {},
   "source": [
    "#### 59. Write a Python program to get the ASCII value of a character."
   ]
  },
  {
   "cell_type": "code",
   "execution_count": 33,
   "id": "988d0dfb",
   "metadata": {},
   "outputs": [
    {
     "name": "stdout",
     "output_type": "stream",
     "text": [
      "Enter the character for which you want ASCII value : A\n",
      "You have entered :  A\n",
      "The ASCII value of A is 65\n"
     ]
    }
   ],
   "source": [
    "input_char = input(\"Enter the character for which you want ASCII value : \")\n",
    "\n",
    "print(\"You have entered : \", input_char)\n",
    "\n",
    "ascii_value = ord(input_char)\n",
    "\n",
    "print(f\"The ASCII value of {input_char} is {ascii_value}\")"
   ]
  },
  {
   "cell_type": "markdown",
   "id": "be744313",
   "metadata": {},
   "source": [
    "#### 60. Given variables x=30 and y=20, write a Python program to print \"30+20=50\""
   ]
  },
  {
   "cell_type": "code",
   "execution_count": 34,
   "id": "bab8c99d",
   "metadata": {},
   "outputs": [
    {
     "name": "stdout",
     "output_type": "stream",
     "text": [
      "x = 30\n",
      "y = 20\n",
      "30 + 20 = 50\n"
     ]
    }
   ],
   "source": [
    "x=30\n",
    "y=20\n",
    "\n",
    "print(f\"x = {x}\")\n",
    "print(f\"y = {y}\")\n",
    "\n",
    "print(f\"{x} + {y} = {x+y}\")"
   ]
  },
  {
   "cell_type": "code",
   "execution_count": 35,
   "id": "4979c500",
   "metadata": {},
   "outputs": [
    {
     "name": "stdout",
     "output_type": "stream",
     "text": [
      "x = 30\n",
      "y = 20\n",
      "30+20=50\n"
     ]
    }
   ],
   "source": [
    "x = 30\n",
    "y = 20\n",
    "\n",
    "print(f\"x = {x}\")\n",
    "print(f\"y = {y}\")\n",
    "\n",
    "print(\"{}+{}={}\".format(x, y, x + y))\n"
   ]
  },
  {
   "cell_type": "code",
   "execution_count": 36,
   "id": "5889212b",
   "metadata": {},
   "outputs": [
    {
     "name": "stdout",
     "output_type": "stream",
     "text": [
      "x = 30\n",
      "y = 20\n",
      "30+20=50\n"
     ]
    }
   ],
   "source": [
    "x = 30\n",
    "y = 20\n",
    "\n",
    "print(f\"x = {x}\")\n",
    "print(f\"y = {y}\")\n",
    "\n",
    "print(\"{0}+{1}={2}\".format(x, y, x+y))\n"
   ]
  }
 ],
 "metadata": {
  "kernelspec": {
   "display_name": "Python 3 (ipykernel)",
   "language": "python",
   "name": "python3"
  },
  "language_info": {
   "codemirror_mode": {
    "name": "ipython",
    "version": 3
   },
   "file_extension": ".py",
   "mimetype": "text/x-python",
   "name": "python",
   "nbconvert_exporter": "python",
   "pygments_lexer": "ipython3",
   "version": "3.9.13"
  }
 },
 "nbformat": 4,
 "nbformat_minor": 5
}
