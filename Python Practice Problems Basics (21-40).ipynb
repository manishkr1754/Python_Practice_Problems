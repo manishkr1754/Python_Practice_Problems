{
 "cells": [
  {
   "cell_type": "markdown",
   "id": "ef3318b5",
   "metadata": {},
   "source": [
    "# Python Practice Problems Basics (21-40)"
   ]
  },
  {
   "cell_type": "markdown",
   "id": "8c25d8c2",
   "metadata": {},
   "source": [
    "#### 21. Write a Python program that determines whether a given number (accepted from the user) is even or odd, and prints an appropriate message to the user. "
   ]
  },
  {
   "cell_type": "code",
   "execution_count": 9,
   "id": "876e7f01",
   "metadata": {},
   "outputs": [
    {
     "name": "stdout",
     "output_type": "stream",
     "text": [
      "Enter the non negative number : 4\n",
      "The given number 4 is EVEN number.\n"
     ]
    }
   ],
   "source": [
    "input_number =int(input(\"Enter the non negative number : \"))\n",
    "if input_number%2==0:\n",
    "    print(f\"The given number {input_number} is EVEN number.\")\n",
    "else:\n",
    "    print(f\"The given number {input_number} is ODD number.\")"
   ]
  },
  {
   "cell_type": "markdown",
   "id": "26860012",
   "metadata": {},
   "source": [
    "#### 22. Write a Python program to count the number 4 in a given list."
   ]
  },
  {
   "cell_type": "code",
   "execution_count": 34,
   "id": "d6da0a44",
   "metadata": {},
   "outputs": [
    {
     "name": "stdout",
     "output_type": "stream",
     "text": [
      "Enter the  number in the list separated by commas:  4,5,4,3,4\n",
      "[4, 5, 4, 3, 4]\n",
      "Count of 4's in the list :  3\n"
     ]
    }
   ],
   "source": [
    "input_number = input(\"Enter the  number in the list separated by commas:  \")\n",
    "input_list = input_number.split(',')\n",
    "input_number_list = [int(number) for number in input_list]\n",
    "print(input_number_list)\n",
    "\n",
    "count_4 =0\n",
    "for num in input_number_list:\n",
    "    if num==4:\n",
    "        count_4=count_4 +1\n",
    "        count_4\n",
    "print(\"Count of 4's in the list : \" , count_4)"
   ]
  },
  {
   "cell_type": "markdown",
   "id": "bd4143c9",
   "metadata": {},
   "source": [
    "#### 23. Write a Python program to get n (non-negative integer) copies of the first 2 characters of a given string. Return n copies of the whole string if the length is less than 2."
   ]
  },
  {
   "cell_type": "code",
   "execution_count": 7,
   "id": "e3c06e26",
   "metadata": {},
   "outputs": [
    {
     "name": "stdout",
     "output_type": "stream",
     "text": [
      "Enter the text : India\n",
      "Enter the number (non negative integer) copies required : 5\n",
      "Length of string is greater than or equal to 2\n",
      "InInInInIn\n"
     ]
    }
   ],
   "source": [
    "input_string = input(\"Enter the text : \")\n",
    "n_copies = int(input(\"Enter the number (non negative integer) copies required : \"))\n",
    "\n",
    "if len(input_string)<2:\n",
    "    print(\"Length of string is less than 2\")\n",
    "    print(input_string*n_copies)\n",
    "else:\n",
    "    print(\"Length of string is greater than or equal to 2\")\n",
    "    print(input_string[0:2]*n_copies)"
   ]
  },
  {
   "cell_type": "markdown",
   "id": "392d54f4",
   "metadata": {},
   "source": [
    "#### 24. Write a Python program to test whether a passed letter is a vowel or not."
   ]
  },
  {
   "cell_type": "code",
   "execution_count": 37,
   "id": "34ebf05c",
   "metadata": {},
   "outputs": [
    {
     "name": "stdout",
     "output_type": "stream",
     "text": [
      "Enter the letter from A-Z a-z : A\n",
      "It is a vowel\n"
     ]
    }
   ],
   "source": [
    "input_char = input(\"Enter the letter from A-Z a-z : \")\n",
    "vowels =[\"a\",\"e\",\"i\",\"o\",\"u\",\"A\",\"E\",\"I\",\"O\",\"U\"]\n",
    "\n",
    "if input_char in vowels:\n",
    "        print(\"It is a vowel\")\n",
    "else:\n",
    "    print(\"It is not a vowel\")"
   ]
  },
  {
   "cell_type": "code",
   "execution_count": 31,
   "id": "0e3b16f7",
   "metadata": {},
   "outputs": [
    {
     "name": "stdout",
     "output_type": "stream",
     "text": [
      "Enter the letter from A-Z a-z : b\n",
      "It is not a vowel\n"
     ]
    }
   ],
   "source": [
    "input_char = input(\"Enter the letter from A-Z a-z : \")\n",
    "vowels =[\"a\",\"e\",\"i\",\"o\",\"u\",\"A\",\"E\",\"I\",\"O\",\"U\"]\n",
    "\n",
    "for vowel in vowels:\n",
    "    if input_char==vowel:\n",
    "        print(\"It is a vowel\")\n",
    "        break\n",
    "    else:\n",
    "        print(\"It is not a vowel\")\n",
    "        break"
   ]
  },
  {
   "cell_type": "code",
   "execution_count": 36,
   "id": "c380ff79",
   "metadata": {},
   "outputs": [
    {
     "name": "stdout",
     "output_type": "stream",
     "text": [
      "Enter the letter from A-Z a-z : A\n",
      "It is a vowel\n"
     ]
    }
   ],
   "source": [
    "input_char = input(\"Enter the letter from A-Z a-z : \")\n",
    "vowels =[\"a\",\"e\",\"i\",\"o\",\"u\"]\n",
    "input_char_modify = input_char.lower()\n",
    "\n",
    "if input_char_modify in vowels:\n",
    "        print(\"It is a vowel\")\n",
    "else:\n",
    "    print(\"It is not a vowel\")"
   ]
  },
  {
   "cell_type": "code",
   "execution_count": 39,
   "id": "1c36193e",
   "metadata": {},
   "outputs": [
    {
     "name": "stdout",
     "output_type": "stream",
     "text": [
      "Enter the letter from A-Z a-z : A\n",
      "Entered letter A is a vowel\n"
     ]
    }
   ],
   "source": [
    "input_char = input(\"Enter the letter from A-Z a-z : \")\n",
    "vowels =[\"a\",\"e\",\"i\",\"o\",\"u\"]\n",
    "input_char_modify = input_char.lower()\n",
    "\n",
    "if input_char_modify in vowels:\n",
    "        print(f\"Entered letter {input_char} is a vowel\")\n",
    "else:\n",
    "    print(f\"Entered letter {input_char} is not a vowel\")"
   ]
  },
  {
   "cell_type": "markdown",
   "id": "a9cbb66c",
   "metadata": {},
   "source": [
    "#### 25. Write a Python program that checks whether a specified value is contained within a group of values."
   ]
  },
  {
   "cell_type": "raw",
   "id": "dee0ee59",
   "metadata": {},
   "source": [
    "Test Data :\n",
    "3 -> [1, 5, 8, 3] : True\n",
    "-1 -> [1, 5, 8, 3] : False"
   ]
  },
  {
   "cell_type": "code",
   "execution_count": 43,
   "id": "178ed568",
   "metadata": {},
   "outputs": [
    {
     "name": "stdout",
     "output_type": "stream",
     "text": [
      "Enter the number : 10\n",
      "False\n"
     ]
    }
   ],
   "source": [
    "test_data =[1,5,8,3]\n",
    "input_number = int(input(\"Enter the digit to be checked : \"))\n",
    "if input_number in test_data:\n",
    "    print(True)\n",
    "else:\n",
    "    print(False)"
   ]
  },
  {
   "cell_type": "code",
   "execution_count": 51,
   "id": "a432b20a",
   "metadata": {},
   "outputs": [
    {
     "name": "stdout",
     "output_type": "stream",
     "text": [
      "Enter any multidigit number : 123543\n",
      "Enter the digit to be checked in the given number : 2\n",
      "True\n"
     ]
    }
   ],
   "source": [
    "input_number = list(input('Enter any multidigit number : '))\n",
    "input_digit = input('Enter the digit to be checked in the given number : ')\n",
    "\n",
    "print(input_digit in input_number)"
   ]
  },
  {
   "cell_type": "markdown",
   "id": "2bd03fa8",
   "metadata": {},
   "source": [
    "#### 26. Write a Python program to create a histogram from a given list of integers."
   ]
  },
  {
   "cell_type": "raw",
   "id": "8b1eb374",
   "metadata": {},
   "source": [
    "Sample Input:\n",
    "[2, 3, 6, 5]\n",
    "\n",
    "Sample Output:\n",
    "**             \n",
    "***            \n",
    "******           \n",
    "*****"
   ]
  },
  {
   "cell_type": "code",
   "execution_count": 51,
   "id": "713f4a84",
   "metadata": {},
   "outputs": [
    {
     "name": "stdout",
     "output_type": "stream",
     "text": [
      "Enter the number without commas: 2365\n",
      "Your have entered :  ['2', '3', '6', '5']\n",
      "Enter the character : *\n",
      "Your have entered :  *\n",
      "**\n",
      "***\n",
      "******\n",
      "*****\n"
     ]
    }
   ],
   "source": [
    "input_numbers = list(input(\"Enter the number without commas: \"))\n",
    "print(\"Your have entered : \", input_numbers)\n",
    "char_marker =input(\"Enter the character : \")\n",
    "print(\"Your have entered : \", char_marker)\n",
    "for num in input_numbers:\n",
    "    #print(\"You have entered : \" , num, end=\" \")\n",
    "    print(char_marker*int(num))"
   ]
  },
  {
   "cell_type": "code",
   "execution_count": 52,
   "id": "496d662e",
   "metadata": {},
   "outputs": [
    {
     "name": "stdout",
     "output_type": "stream",
     "text": [
      "Enter the number without commas: 2365\n",
      "Your have entered :  ['2', '3', '6', '5']\n",
      "Enter the character : *\n",
      "Your have entered :  *\n",
      "**\n",
      "***\n",
      "******\n",
      "*****\n"
     ]
    }
   ],
   "source": [
    "input_numbers = list(input(\"Enter the number without commas: \"))\n",
    "print(\"Your have entered : \", input_numbers)\n",
    "char_marker =input(\"Enter the character : \")\n",
    "print(\"Your have entered : \", char_marker)\n",
    "for num in input_numbers:\n",
    "    hist_output=\"\"\n",
    "    iteration_no = int(num)\n",
    "    while iteration_no > 0:\n",
    "        hist_output += char_marker\n",
    "        iteration_no=iteration_no-1\n",
    "    print(hist_output)"
   ]
  },
  {
   "cell_type": "code",
   "execution_count": 58,
   "id": "fc34a523",
   "metadata": {},
   "outputs": [
    {
     "name": "stdout",
     "output_type": "stream",
     "text": [
      "Enter the number  commas: 2,3,6,5\n",
      "Enter the character : *\n",
      "**\n",
      "***\n",
      "******\n",
      "*****\n"
     ]
    }
   ],
   "source": [
    "input_numbers = map(int, input(\"Enter the number  commas: \").split(\",\"))\n",
    "\n",
    "char_marker =input(\"Enter the character : \")\n",
    "\n",
    "for num in input_numbers:\n",
    "    #print(\"You have entered : \" , num, end=\" \")\n",
    "    print(char_marker*num)"
   ]
  },
  {
   "cell_type": "markdown",
   "id": "f31c1f9e",
   "metadata": {},
   "source": [
    "#### 27. Write a Python program that concatenates all elements in a list into a string and returns it."
   ]
  },
  {
   "cell_type": "code",
   "execution_count": 75,
   "id": "92e71c48",
   "metadata": {},
   "outputs": [
    {
     "name": "stdout",
     "output_type": "stream",
     "text": [
      "The concatenated elements of list into a string :  2345ab6\n"
     ]
    }
   ],
   "source": [
    "input_list =[2,3,4,5,'a','b',6]\n",
    "num_modify_string=''\n",
    "for num in input_list:\n",
    "    num_modify_string += str(num)\n",
    "    num_modify_string  \n",
    "print(\"The concatenated elements of list into a string : \", num_modify_string)"
   ]
  },
  {
   "cell_type": "code",
   "execution_count": 85,
   "id": "7116d1f0",
   "metadata": {},
   "outputs": [
    {
     "name": "stdout",
     "output_type": "stream",
     "text": [
      "Enter numbers and letters separated by comma : 1,2,a,3\n",
      "Concatenated elements in a list :  12a3\n"
     ]
    }
   ],
   "source": [
    "input_list=list(input(\"Enter numbers and letters separated by comma : \").split(\",\"))\n",
    "concat_list = ''.join(input_list)\n",
    "print(\"Concatenated elements in a list : \", concat_list)"
   ]
  },
  {
   "cell_type": "code",
   "execution_count": 87,
   "id": "fb15b414",
   "metadata": {},
   "outputs": [
    {
     "name": "stdout",
     "output_type": "stream",
     "text": [
      "Enter numbers and letters separated by comma : 1,a,2,3,b\n",
      "Concatenated elements in a list :  1a23b\n"
     ]
    }
   ],
   "source": [
    "input_list=list(input(\"Enter numbers and letters separated by comma : \").split(\",\"))\n",
    "empty_string =''\n",
    "concat_list = empty_string.join(input_list)\n",
    "print(\"Concatenated elements in a list : \", concat_list)"
   ]
  },
  {
   "cell_type": "code",
   "execution_count": 86,
   "id": "c52f5b67",
   "metadata": {},
   "outputs": [
    {
     "name": "stdout",
     "output_type": "stream",
     "text": [
      "Enter numbers and letters separated by comma : 1,2,a,3\n",
      "You have entered :  ['1', '2', 'a', '3']\n",
      "Concatenated elements in a list :  12a3\n"
     ]
    }
   ],
   "source": [
    "input_list=list(input(\"Enter numbers and letters separated by comma : \"))\n",
    "input_list_clean = [element for element in input_list if element!=',']\n",
    "print(\"You have entered : \", input_list_clean)\n",
    "concat_list = ''.join(input_list_clean)\n",
    "print(\"Concatenated elements in a list : \", concat_list)"
   ]
  },
  {
   "cell_type": "markdown",
   "id": "d5408fa8",
   "metadata": {},
   "source": [
    "#### 28. Write a Python program to print all even numbers from a given list of numbers in the same order and stop printing any after 237 in the sequence"
   ]
  },
  {
   "cell_type": "raw",
   "id": "a5a9305a",
   "metadata": {},
   "source": [
    "Sample numbers list :\n",
    "\n",
    "numbers = [    \n",
    "    386, 462, 47, 418, 907, 344, 236, 375, 823, 566, 597, 978, 328, 615, 953, 345, \n",
    "    399, 162, 758, 219, 918, 237, 412, 566, 826, 248, 866, 950, 626, 949, 687, 217, \n",
    "    815, 67, 104, 58, 512, 24, 892, 894, 767, 553, 81, 379, 843, 831, 445, 742, 717, \n",
    "    958,743, 527\n",
    "    ]\n"
   ]
  },
  {
   "cell_type": "code",
   "execution_count": 96,
   "id": "c59648f3",
   "metadata": {},
   "outputs": [
    {
     "name": "stdout",
     "output_type": "stream",
     "text": [
      "List of EVEN numbers before encountering number 237 in the list:\n",
      "386\n",
      "462\n",
      "418\n",
      "344\n",
      "236\n",
      "566\n",
      "978\n",
      "328\n",
      "162\n",
      "758\n",
      "918\n",
      "Number 237 has been encountred. STOP !\n"
     ]
    }
   ],
   "source": [
    "numbers_list =  [    \n",
    "    386, 462, 47, 418, 907, 344, 236, 375, 823, 566, 597, 978, 328, 615, 953, 345, \n",
    "    399, 162, 758, 219, 918, 237, 412, 566, 826, 248, 866, 950, 626, 949, 687, 217, \n",
    "    815, 67, 104, 58, 512, 24, 892, 894, 767, 553, 81, 379, 843, 831, 445, 742, 717, \n",
    "    958,743, 527\n",
    "    ]\n",
    "\n",
    "print(\"List of EVEN numbers before encountering number 237 in the list:\")\n",
    "for num in numbers_list:\n",
    "    if num==237:\n",
    "        print(f\"Number {237} has been encountred. STOP !\")\n",
    "        break\n",
    "    elif num%2==0:\n",
    "        print(num)"
   ]
  },
  {
   "cell_type": "markdown",
   "id": "d8dcb759",
   "metadata": {},
   "source": [
    "#### 29. Write a Python program that prints out all colors from color_list_1 that are not present in color_list_2."
   ]
  },
  {
   "cell_type": "raw",
   "id": "63aca227",
   "metadata": {},
   "source": [
    "Test Data :\n",
    "color_list_1 = set([\"White\", \"Black\", \"Red\"])\n",
    "color_list_2 = set([\"Red\", \"Green\"])\n",
    "\n",
    "Expected Output :\n",
    "{'Black', 'White'}"
   ]
  },
  {
   "cell_type": "code",
   "execution_count": 99,
   "id": "81d185d9",
   "metadata": {},
   "outputs": [
    {
     "name": "stdout",
     "output_type": "stream",
     "text": [
      "The colors in list 1 are :  {'White', 'Red', 'Black'}\n",
      "The colors in the list 2 are :  {'Green', 'Red'}\n",
      "The colors present in list 1 but not in list 2 :  {'White', 'Black'}\n",
      "The colors present in list 2 but not in list 1 :  {'Green'}\n"
     ]
    }
   ],
   "source": [
    "color_list_1 = set([\"White\", \"Black\", \"Red\"])\n",
    "color_list_2 = set([\"Red\", \"Green\"])\n",
    "\n",
    "print(\"The colors in list 1 are : \", color_list_1)\n",
    "print(\"The colors in the list 2 are : \", color_list_2)\n",
    "\n",
    "print(\"The colors present in list 1 but not in list 2 : \", end=\" \")\n",
    "print(color_list_1.difference(color_list_2))\n",
    "print(\"The colors present in list 2 but not in list 1 : \", end=\" \")\n",
    "print(color_list_2.difference(color_list_1))"
   ]
  },
  {
   "cell_type": "code",
   "execution_count": 100,
   "id": "d053b5b2",
   "metadata": {},
   "outputs": [
    {
     "name": "stdout",
     "output_type": "stream",
     "text": [
      "The colors in list 1 are :  {'White', 'Red', 'Black'}\n",
      "The colors in the list 2 are :  {'Green', 'Red'}\n",
      "The colors present in list 1 but not in list 2 :  {'White', 'Black'}\n",
      "The colors present in list 2 but not in list 1 :  {'Green'}\n"
     ]
    }
   ],
   "source": [
    "color_list_1 = set([\"White\", \"Black\", \"Red\"])\n",
    "color_list_2 = set([\"Red\", \"Green\"])\n",
    "\n",
    "print(\"The colors in list 1 are : \", color_list_1)\n",
    "print(\"The colors in the list 2 are : \", color_list_2)\n",
    "\n",
    "print(\"The colors present in list 1 but not in list 2 : \", end=\" \")\n",
    "print(color_list_1 - color_list_2)\n",
    "print(\"The colors present in list 2 but not in list 1 : \", end=\" \")\n",
    "print(color_list_2 - color_list_1)"
   ]
  },
  {
   "cell_type": "markdown",
   "id": "39c1fe9d",
   "metadata": {},
   "source": [
    "#### 30. Write a Python program that will accept the base and height of a triangle and compute its area."
   ]
  },
  {
   "cell_type": "code",
   "execution_count": 103,
   "id": "e6041b1c",
   "metadata": {},
   "outputs": [
    {
     "name": "stdout",
     "output_type": "stream",
     "text": [
      "Enter the base : 5.5\n",
      "Enter the height : 6.5\n",
      "The area of triangle id :  17.875\n"
     ]
    }
   ],
   "source": [
    "base = float(input(\"Enter the base : \"))\n",
    "height = float(input(\"Enter the height : \"))\n",
    "\n",
    "area = (base*height)/2\n",
    "\n",
    "print(\"The area of triangle id : \", area)"
   ]
  },
  {
   "cell_type": "markdown",
   "id": "cd29de34",
   "metadata": {},
   "source": [
    "#### 31. Write a Python program that computes the greatest common divisor (GCD) of two positive integers."
   ]
  },
  {
   "cell_type": "code",
   "execution_count": 82,
   "id": "33a8cabd",
   "metadata": {},
   "outputs": [
    {
     "name": "stdout",
     "output_type": "stream",
     "text": [
      "Enter the first positive number : 16\n",
      "Enter the second positive number : 24\n",
      "The Greatest Common Divisor of 16 and 24 is :  8\n"
     ]
    }
   ],
   "source": [
    "def greatest_common_divisor(input_number1,input_number2):\n",
    "    while(True):\n",
    "        if input_number1==input_number2:\n",
    "            return input_number1\n",
    "        elif input_number1 > input_number2:\n",
    "            input_number1 = input_number1 - input_number2\n",
    "        else:\n",
    "            input_number2 = input_number2 - input_number1\n",
    "            \n",
    "input_number1 = int(input(\"Enter the first positive number : \"))\n",
    "input_number2 = int(input(\"Enter the second positive number : \"))\n",
    "\n",
    "print(f\"The Greatest Common Divisor of {input_number1} and {input_number2} is : \" , greatest_common_divisor(input_number1,input_number2))"
   ]
  },
  {
   "cell_type": "code",
   "execution_count": 83,
   "id": "e16febc0",
   "metadata": {},
   "outputs": [
    {
     "name": "stdout",
     "output_type": "stream",
     "text": [
      "Enter the first positive number : 55\n",
      "Enter the second positive number : 11\n",
      "The Greatest Common Divisor of 55 and 11 is :  11\n"
     ]
    }
   ],
   "source": [
    "def greatest_common_divisor(input_number1, input_number2):\n",
    "    remainder = input_number1%input_number2\n",
    "    while remainder:\n",
    "        input_number1 = input_number2\n",
    "        input_number2 = remainder\n",
    "        remainder = input_number1%input_number2\n",
    "    return input_number2\n",
    "\n",
    "input_number1 = int(input(\"Enter the first positive number : \"))\n",
    "input_number2 = int(input(\"Enter the second positive number : \"))\n",
    "\n",
    "print(f\"The Greatest Common Divisor of {input_number1} and {input_number2} is : \" , greatest_common_divisor(input_number1,input_number2))"
   ]
  },
  {
   "cell_type": "code",
   "execution_count": 90,
   "id": "753ff0c5",
   "metadata": {},
   "outputs": [
    {
     "name": "stdout",
     "output_type": "stream",
     "text": [
      "Enter the first positive number : 30\n",
      "Enter the second positive number : 6\n",
      "The Greatest Common Divisor of 30 and 6 is :  6\n"
     ]
    }
   ],
   "source": [
    "def greatest_common_divisor(input_number1, input_number2):\n",
    "    \n",
    "    gcd = 1\n",
    "    \n",
    "    if input_number1%input_number2==0:\n",
    "        return input_number2\n",
    "    \n",
    "    for k in range(int(input_number2/2),0,-1):\n",
    "        if input_number1%k==0 and input_number2%k==0:\n",
    "            gcd = k\n",
    "            break\n",
    "        return gcd\n",
    "\n",
    "    \n",
    "input_number1 = int(input(\"Enter the first positive number : \"))\n",
    "input_number2 = int(input(\"Enter the second positive number : \"))\n",
    "\n",
    "print(f\"The Greatest Common Divisor of {input_number1} and {input_number2} is : \" , greatest_common_divisor(input_number1,input_number2))"
   ]
  },
  {
   "cell_type": "code",
   "execution_count": 96,
   "id": "3d893687",
   "metadata": {},
   "outputs": [
    {
     "name": "stdout",
     "output_type": "stream",
     "text": [
      "Enter the first number: 5\n",
      "Enter the second number: 15\n",
      "The Greatest Common Divisor of 5 and 15 is :  5\n"
     ]
    }
   ],
   "source": [
    "input_number1 = int(input(\"Enter the first number: \"))\n",
    "input_number2 = int(input(\"Enter the second number: \"))\n",
    "\n",
    "k = 1\n",
    "GCD = 1\n",
    "\n",
    "while k <= input_number1:\n",
    "    if input_number1 % k == 0 and input_number2 % k == 0:\n",
    "        GCD = k\n",
    "    k += 1\n",
    "\n",
    "print(f\"The Greatest Common Divisor of {input_number1} and {input_number2} is : \" , GCD)"
   ]
  },
  {
   "cell_type": "code",
   "execution_count": 106,
   "id": "5c111c36",
   "metadata": {},
   "outputs": [
    {
     "name": "stdout",
     "output_type": "stream",
     "text": [
      "Enter the first number : 5\n",
      "Enter the second number : 15\n",
      "The Greatest Common Divisor of 5 and 15 is :  5\n"
     ]
    }
   ],
   "source": [
    "input_number1 = int(input(\"Enter the first number : \"))\n",
    "input_number2 = int(input(\"Enter the second number : \"))\n",
    "\n",
    "k=1\n",
    "\n",
    "if input_number1>input_number2:\n",
    "    k=input_number2\n",
    "elif input_number2>input_number1:\n",
    "    k=input_number1\n",
    "    \n",
    "while True:\n",
    "    if input_number1%k==0 and input_number2%k==0:\n",
    "        print(f\"The Greatest Common Divisor of {input_number1} and {input_number2} is : \" , k)\n",
    "        break\n",
    "    else:\n",
    "        k = k-1"
   ]
  },
  {
   "cell_type": "code",
   "execution_count": null,
   "id": "8e308141",
   "metadata": {},
   "outputs": [],
   "source": [
    "from functools import reduce\n",
    "from math import gcd as gcd"
   ]
  },
  {
   "cell_type": "code",
   "execution_count": 107,
   "id": "b87a1ddd",
   "metadata": {},
   "outputs": [
    {
     "name": "stdout",
     "output_type": "stream",
     "text": [
      "Enter the first number : 33\n",
      "Enter the second number : 63\n",
      "The Greatest Common Divisor of 33 and 63 is :  3\n"
     ]
    }
   ],
   "source": [
    "import math\n",
    "input_number1 = int(input(\"Enter the first number : \"))\n",
    "input_number2 = int(input(\"Enter the second number : \"))\n",
    "\n",
    "greatest_common_divisor = math.gcd(input_number1,input_number2)\n",
    "\n",
    "print(f\"The Greatest Common Divisor of {input_number1} and {input_number2} is : \", greatest_common_divisor)"
   ]
  },
  {
   "cell_type": "markdown",
   "id": "473a7ba4",
   "metadata": {},
   "source": [
    "#### 32. Write a Python program to find the least common multiple (LCM) of two positive integers."
   ]
  },
  {
   "cell_type": "code",
   "execution_count": 10,
   "id": "08cce82f",
   "metadata": {},
   "outputs": [
    {
     "name": "stdout",
     "output_type": "stream",
     "text": [
      "Enter the first number : 5\n",
      "Enter the second number : 50\n",
      "The Least Common Multiple of 5 and 50 is :  50\n"
     ]
    }
   ],
   "source": [
    "def lcm(input_number1,input_number2):\n",
    "    if input_number2%input_number1==0:\n",
    "        return input_number2\n",
    "    elif input_number1%input_number2==0:\n",
    "        return input_number1\n",
    "    else:\n",
    "        return input_number1*input_number2\n",
    "    \n",
    "input_number1 = int(input(\"Enter the first number : \"))\n",
    "input_number2 = int(input(\"Enter the second number : \"))\n",
    "\n",
    "print(f\"The Least Common Multiple of {input_number1} and {input_number2} is : \", lcm(input_number1,input_number2))"
   ]
  },
  {
   "cell_type": "code",
   "execution_count": 16,
   "id": "5042e219",
   "metadata": {},
   "outputs": [
    {
     "name": "stdout",
     "output_type": "stream",
     "text": [
      "Enter the first number : 5\n",
      "Enter the second number : 55\n",
      "The Least Common Multiple of 5 and 55 is :  55\n"
     ]
    }
   ],
   "source": [
    "def lcm(input_number1, input_number2):\n",
    "    if input_number1>input_number2:\n",
    "        divisor = input_number1\n",
    "    else:\n",
    "        divisor = input_number2\n",
    "    while(True):\n",
    "        if (divisor%input_number1==0) and (divisor%input_number2==0):\n",
    "            lcm = divisor\n",
    "            break\n",
    "        divisor += 1\n",
    "    return lcm\n",
    "\n",
    "input_number1 = int(input(\"Enter the first number : \"))\n",
    "input_number2 = int(input(\"Enter the second number : \"))\n",
    "\n",
    "print(f\"The Least Common Multiple of {input_number1} and {input_number2} is : \", lcm(input_number1,input_number2))"
   ]
  },
  {
   "cell_type": "code",
   "execution_count": 17,
   "id": "1525348a",
   "metadata": {},
   "outputs": [
    {
     "name": "stdout",
     "output_type": "stream",
     "text": [
      "Enter the first number : 5\n",
      "Enter the second number : 25\n",
      "The least common multiple for your numbers 5 and 25 is 25.\n"
     ]
    }
   ],
   "source": [
    "import math\n",
    "\n",
    "input_number1 = int(input(\"Enter the first number : \"))\n",
    "input_number2 = int(input(\"Enter the second number : \"))\n",
    "\n",
    "lcm_two_numbers = math.lcm(input_number1,input_number2)\n",
    "\n",
    "print(f'The least common multiple for your numbers {input_number1} and {input_number2} is {lcm_two_numbers}.')"
   ]
  },
  {
   "cell_type": "markdown",
   "id": "62419f69",
   "metadata": {},
   "source": [
    "#### 33. Write a Python program to sum three given integers. However, if two values are equal, the sum will be zero. "
   ]
  },
  {
   "cell_type": "code",
   "execution_count": 19,
   "id": "59f08449",
   "metadata": {},
   "outputs": [
    {
     "name": "stdout",
     "output_type": "stream",
     "text": [
      "Enter the first number : 515\n",
      "Enter the second number : 521\n",
      "Enter the third number : 515\n",
      "The required sum is :  0\n"
     ]
    }
   ],
   "source": [
    "input_number1 = int(input(\"Enter the first number : \"))\n",
    "input_number2 = int(input(\"Enter the second number : \"))\n",
    "input_number3 = int(input(\"Enter the third number : \"))\n",
    "\n",
    "if input_number1==input_number2 or input_number2==input_number3 or input_number1==input_number3:\n",
    "    sum_numbers = 0\n",
    "else:\n",
    "    sum_numbers= input_number1+input_number2+input_number3\n",
    "    \n",
    "print(\"The required sum is : \", sum_numbers)"
   ]
  },
  {
   "cell_type": "markdown",
   "id": "2eb4a24d",
   "metadata": {},
   "source": [
    "#### 34. Write a Python program to sum two given integers. However, if the sum is between 15 and 20 it will return 20."
   ]
  },
  {
   "cell_type": "code",
   "execution_count": 26,
   "id": "31cfbe3f",
   "metadata": {},
   "outputs": [
    {
     "name": "stdout",
     "output_type": "stream",
     "text": [
      "Enter the first number : 12\n",
      "Enter the second number : 7\n",
      "The required sum is :  20\n"
     ]
    }
   ],
   "source": [
    "input_number1 = int(input(\"Enter the first number : \"))\n",
    "input_number2 = int(input(\"Enter the second number : \"))\n",
    "\n",
    "sum_numbers = input_number1+input_number2\n",
    "\n",
    "if 15 <= sum_numbers <= 20:\n",
    "    sum_numbers = 20\n",
    "else:\n",
    "    sum_numbers\n",
    "    \n",
    "print(\"The required sum is : \", sum_numbers)"
   ]
  },
  {
   "cell_type": "markdown",
   "id": "54392c8c",
   "metadata": {},
   "source": [
    "#### 35. Write a Python program that returns true if the two given integer values are equal or their sum or difference is 5"
   ]
  },
  {
   "cell_type": "code",
   "execution_count": 33,
   "id": "8341259e",
   "metadata": {},
   "outputs": [
    {
     "name": "stdout",
     "output_type": "stream",
     "text": [
      "Enter the first number : 15\n",
      "Enter the second number : 6\n",
      "False\n"
     ]
    }
   ],
   "source": [
    "input_number1 = int(input(\"Enter the first number : \"))\n",
    "input_number2 = int(input(\"Enter the second number : \"))\n",
    "\n",
    "\n",
    "if input_number1==input_number2 or (input_number1+input_number2==5) or (abs(input_number1-input_number2)==5):\n",
    "    print(True)\n",
    "else:\n",
    "    print(False)"
   ]
  },
  {
   "cell_type": "code",
   "execution_count": 36,
   "id": "66a361d2",
   "metadata": {},
   "outputs": [
    {
     "name": "stdout",
     "output_type": "stream",
     "text": [
      "Enter the first number : 5\n",
      "Enter the second number : 12\n",
      "False\n"
     ]
    }
   ],
   "source": [
    "input_number1 = int(input(\"Enter the first number : \"))\n",
    "input_number2 = int(input(\"Enter the second number : \"))\n",
    "\n",
    "print(True if input_number1==input_number2 or (input_number1+input_number2==5) or (abs(input_number1-input_number2)==5) else False)"
   ]
  },
  {
   "cell_type": "markdown",
   "id": "6bc19873",
   "metadata": {},
   "source": [
    "#### 36. Write a Python program to add two objects if both objects are integers."
   ]
  },
  {
   "cell_type": "code",
   "execution_count": 55,
   "id": "a37e0f8c",
   "metadata": {},
   "outputs": [],
   "source": [
    "def add_int(input1, input2):\n",
    "    if type(input1)==int and type(input2)==int:\n",
    "        return input1+input2\n",
    "    else:\n",
    "        print(\"Inputs must be integers\")"
   ]
  },
  {
   "cell_type": "code",
   "execution_count": 56,
   "id": "80b9fe8b",
   "metadata": {},
   "outputs": [
    {
     "data": {
      "text/plain": [
       "7"
      ]
     },
     "execution_count": 56,
     "metadata": {},
     "output_type": "execute_result"
    }
   ],
   "source": [
    "add_int(5,2)"
   ]
  },
  {
   "cell_type": "code",
   "execution_count": 58,
   "id": "57705320",
   "metadata": {},
   "outputs": [
    {
     "name": "stdout",
     "output_type": "stream",
     "text": [
      "Inputs must be integers\n"
     ]
    }
   ],
   "source": [
    "add_int(5,'a')"
   ]
  },
  {
   "cell_type": "code",
   "execution_count": 37,
   "id": "249edab5",
   "metadata": {},
   "outputs": [],
   "source": [
    "def add_int(input1, input2):\n",
    "    if isinstance(input1,int) and isinstance(input2, int):\n",
    "        return input1+input2\n",
    "    else:\n",
    "        print(\"Inputs must be integers\")"
   ]
  },
  {
   "cell_type": "code",
   "execution_count": 38,
   "id": "9e03e47d",
   "metadata": {},
   "outputs": [
    {
     "data": {
      "text/plain": [
       "7"
      ]
     },
     "execution_count": 38,
     "metadata": {},
     "output_type": "execute_result"
    }
   ],
   "source": [
    "add_int(5,2)"
   ]
  },
  {
   "cell_type": "code",
   "execution_count": 40,
   "id": "5af28737",
   "metadata": {},
   "outputs": [
    {
     "name": "stdout",
     "output_type": "stream",
     "text": [
      "Inputs must be integers\n"
     ]
    }
   ],
   "source": [
    "add_int('a',5)"
   ]
  },
  {
   "cell_type": "code",
   "execution_count": 54,
   "id": "68c7d9f9",
   "metadata": {},
   "outputs": [
    {
     "name": "stdout",
     "output_type": "stream",
     "text": [
      "Enter the first input : 5\n",
      "Enter the second input : 15\n",
      "The required sum is :  20\n"
     ]
    }
   ],
   "source": [
    "input1 = input(\"Enter the first input : \")\n",
    "input2 = input(\"Enter the second input : \")\n",
    "\n",
    "if input1.isdigit() and input2.isdigit():\n",
    "    print(\"The required sum is : \" , (int(input1)+int(input2)))\n",
    "else:\n",
    "    print(\"Inputs must be integers\")"
   ]
  },
  {
   "cell_type": "markdown",
   "id": "d95689f1",
   "metadata": {},
   "source": [
    "#### 37. Write a Python program that displays your name, age, and address on three different lines."
   ]
  },
  {
   "cell_type": "code",
   "execution_count": 61,
   "id": "964a704f",
   "metadata": {},
   "outputs": [
    {
     "name": "stdout",
     "output_type": "stream",
     "text": [
      "Enter your name : Manish Kumar\n",
      "Enter your age in years : 25\n",
      "Enter your address : Delhi, Noida\n",
      "Your name is : Manish Kumar\n",
      "Your age is 25 years\n",
      "Your address is Delhi, Noida\n"
     ]
    }
   ],
   "source": [
    "input_name = input(\"Enter your name : \")\n",
    "input_age = int(input(\"Enter your age in years : \"))\n",
    "input_address = input(\"Enter your address : \")\n",
    "                \n",
    "print(f\"Your name is : {input_name}\")\n",
    "print(f\"Your age is {input_age} years\")\n",
    "print(f\"Your address is {input_address}\")"
   ]
  },
  {
   "cell_type": "code",
   "execution_count": 65,
   "id": "78df48e2",
   "metadata": {},
   "outputs": [
    {
     "name": "stdout",
     "output_type": "stream",
     "text": [
      "Enter your name : Manish\n",
      "Enter your age in years : 25\n",
      "Enter your address : Delhi, India\n",
      "Your Name: Manish\n",
      "Your Age: 25\n",
      "Your Address:Delhi, India\n"
     ]
    }
   ],
   "source": [
    "input_name = input(\"Enter your name : \")\n",
    "input_age = int(input(\"Enter your age in years : \"))\n",
    "input_address = input(\"Enter your address : \")\n",
    "\n",
    "print(f\"Your Name: {input_name}\\nYour Age: {input_age}\\nYour Address:{input_address}\")"
   ]
  },
  {
   "cell_type": "markdown",
   "id": "2243bb3e",
   "metadata": {},
   "source": [
    "#### 38. Write a Python program to solve (x + y) * (x + y). "
   ]
  },
  {
   "cell_type": "raw",
   "id": "6ec9af46",
   "metadata": {},
   "source": [
    "Test Data : \n",
    "x = 4, y = 3\n",
    "\n",
    "Expected Output : \n",
    "(4 + 3) ^ 2) = 49"
   ]
  },
  {
   "cell_type": "code",
   "execution_count": 70,
   "id": "a13c0b91",
   "metadata": {},
   "outputs": [
    {
     "name": "stdout",
     "output_type": "stream",
     "text": [
      "Enter the first number : 4\n",
      "Enter the second number : 3\n",
      "(4+3)^2 :  49\n"
     ]
    }
   ],
   "source": [
    "input_number1 = int(input(\"Enter the first number : \"))\n",
    "input_number2 = int(input(\"Enter the second number : \"))\n",
    "\n",
    "print(f\"({input_number1}+{input_number2})^2 : \", (input_number1+input_number2)**2)"
   ]
  },
  {
   "cell_type": "markdown",
   "id": "7cdafa65",
   "metadata": {},
   "source": [
    "#### 39. Write a Python program to compute the future value of a specified principal amount, rate of interest, and number of years."
   ]
  },
  {
   "cell_type": "raw",
   "id": "3a29ed89",
   "metadata": {},
   "source": [
    "Test Data : \n",
    "amt = 10000, int = 3.5, years = 7\n",
    "\n",
    "Expected Output(Compounded) : \n",
    "12722.79"
   ]
  },
  {
   "cell_type": "code",
   "execution_count": 72,
   "id": "483dcf47",
   "metadata": {},
   "outputs": [
    {
     "name": "stdout",
     "output_type": "stream",
     "text": [
      "Enter the Principal Amount : 10000\n",
      "Enter the Rate of Interest per annum : 3.5\n",
      "Enter the time period in years : 7\n",
      "The Future Value of principal amount 10000.0 at 3.5 per annum for 7 is  12722.79\n"
     ]
    }
   ],
   "source": [
    "input_principal_amt = float(input(\"Enter the Principal Amount : \"))\n",
    "input_rate_pa = float(input(\"Enter the Rate of Interest per annum : \"))\n",
    "input_years = int(input(\"Enter the time period in years : \"))\n",
    "\n",
    "future_value = round(input_principal_amt*((1+(0.01*input_rate_pa))**input_years),2)\n",
    "\n",
    "print(f\"The Future Value of principal amount {input_principal_amt} at {input_rate_pa} per annum for {input_years} is \", future_value)"
   ]
  },
  {
   "cell_type": "code",
   "execution_count": 74,
   "id": "c6669ab7",
   "metadata": {},
   "outputs": [
    {
     "name": "stdout",
     "output_type": "stream",
     "text": [
      "Enter the Principal amount : a\n",
      "Not a number !\n",
      "Enter the Principal amount : 5\n",
      "Enter the Rate of Interest per annum : a\n",
      "Not a number !\n",
      "Enter the Rate of Interest per annum : 2\n",
      "Enter the time period in years : 2\n",
      "The Future Value of principal amount 5.0 at 2.0 per annum for 2.0 is  5.2\n"
     ]
    }
   ],
   "source": [
    "while True:\n",
    "    input_principal_amt = input(\"Enter the Principal amount : \")\n",
    "    try:\n",
    "        input_principal_amt=float(input_principal_amt)\n",
    "        break\n",
    "    except ValueError:\n",
    "        print(\"Not a number !\")\n",
    "        continue\n",
    "\n",
    "while True:\n",
    "    input_rate_pa = input(\"Enter the Rate of Interest per annum : \")\n",
    "    try:\n",
    "        input_rate_pa = float(input_rate_pa)\n",
    "        break\n",
    "    except ValueError:\n",
    "        print(\"Not a number !\")\n",
    "        continue\n",
    "        \n",
    "while True:\n",
    "    input_years=input(\"Enter the time period in years : \")\n",
    "    try:\n",
    "        input_years=float(input_years)\n",
    "        break\n",
    "    except ValueError:\n",
    "        print(\"Not a number !\")\n",
    "        \n",
    "\n",
    "future_value = round(input_principal_amt*((1+(0.01*input_rate_pa))**input_years),2)\n",
    "\n",
    "print(f\"The Future Value of principal amount {input_principal_amt} at {input_rate_pa} per annum for {input_years} is \", future_value)"
   ]
  },
  {
   "cell_type": "markdown",
   "id": "41774684",
   "metadata": {},
   "source": [
    "#### 40. Write a Python program to calculate the distance between the points (x1, y1) and (x2, y2)."
   ]
  },
  {
   "cell_type": "code",
   "execution_count": 76,
   "id": "81c03f7f",
   "metadata": {},
   "outputs": [
    {
     "name": "stdout",
     "output_type": "stream",
     "text": [
      "Enter the first point X-coordinate X1: 5\n",
      "Enter the first point Y-coordinate Y1: 2\n",
      "Enter the second point X-coordinate X2: 3\n",
      "Enter the second point Y-coordinate Y2: 4\n",
      "The distance between points (5.0,2.0) and (3.0, 4.0) is  2.8284271247461903\n"
     ]
    }
   ],
   "source": [
    "input_x1 = float(input(\"Enter the first point X-coordinate X1: \"))\n",
    "input_y1 = float(input(\"Enter the first point Y-coordinate Y1: \"))\n",
    "input_x2 = float(input(\"Enter the second point X-coordinate X2: \"))\n",
    "input_y2 = float(input(\"Enter the second point Y-coordinate Y2: \"))\n",
    "\n",
    "distance = ((input_x2-input_x1)**2 + (input_y2-input_y1)**2)**0.5\n",
    "\n",
    "print(f\"The distance between points ({input_x1},{input_y1}) and ({input_x2}, {input_y2}) is \", distance)"
   ]
  },
  {
   "cell_type": "code",
   "execution_count": 87,
   "id": "4741a06f",
   "metadata": {},
   "outputs": [
    {
     "name": "stdout",
     "output_type": "stream",
     "text": [
      "Enter first point coordinates separated by comma:2,5\n",
      "Enter second point coordinates separated by comma :5,2\n",
      "The distance between points (2,5) and (5, 2) is  4.242640687119285\n"
     ]
    }
   ],
   "source": [
    "import math\n",
    "input_x1,input_y1=[int(x) for x in input(\"Enter first point coordinates separated by comma:\").split(\",\")]\n",
    "input_x2,input_y2=[int(x) for x in input(\"Enter second point coordinates separated by comma :\").split(\",\")]\n",
    "distance = math.sqrt(((input_x2-input_x1)**2) + ((input_y2-input_y1)**2))\n",
    "print(f\"The distance between points ({input_x1},{input_y1}) and ({input_x2}, {input_y2}) is \", distance)"
   ]
  },
  {
   "cell_type": "code",
   "execution_count": 86,
   "id": "0e255eed",
   "metadata": {},
   "outputs": [
    {
     "name": "stdout",
     "output_type": "stream",
     "text": [
      "The distance between points is  6.324555320336759\n"
     ]
    }
   ],
   "source": [
    "import math\n",
    "p1 = [4, 0]\n",
    "p2 = [6, 6]\n",
    "\n",
    "distance = math.sqrt( ((p1[0]-p2[0])**2)+((p1[1]-p2[1])**2) )\n",
    "\n",
    "print(\"The distance between points is \", distance)\n"
   ]
  }
 ],
 "metadata": {
  "kernelspec": {
   "display_name": "Python 3 (ipykernel)",
   "language": "python",
   "name": "python3"
  },
  "language_info": {
   "codemirror_mode": {
    "name": "ipython",
    "version": 3
   },
   "file_extension": ".py",
   "mimetype": "text/x-python",
   "name": "python",
   "nbconvert_exporter": "python",
   "pygments_lexer": "ipython3",
   "version": "3.9.13"
  }
 },
 "nbformat": 4,
 "nbformat_minor": 5
}
